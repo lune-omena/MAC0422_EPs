{
 "cells": [
  {
   "cell_type": "markdown",
   "metadata": {},
   "source": [
    "# Testes com escalonadores"
   ]
  },
  {
   "cell_type": "markdown",
   "metadata": {},
   "source": [
    "## Configuração do ambiente\n",
    "\n",
    "Atualizando os pacotes Julia"
   ]
  },
  {
   "cell_type": "code",
   "execution_count": 3,
   "metadata": {},
   "outputs": [
    {
     "name": "stdout",
     "output_type": "stream",
     "text": [
      "\u001b[32m\u001b[1m  Updating\u001b[22m\u001b[39m registry at `~/.julia/registries/General`\n",
      "\u001b[32m\u001b[1m  Updating\u001b[22m\u001b[39m git-repo `https://github.com/JuliaRegistries/General.git`\n",
      "\u001b[2K\u001b[?25h[1mFetching:\u001b[22m\u001b[39m [========================================>]  99.9 %0.0 %\u001b[36m\u001b[1mFetching:\u001b[22m\u001b[39m [=========>                               ]  20.5 %\u001b[36m\u001b[1mFetching:\u001b[22m\u001b[39m [==========>                              ]  23.3 %\u001b[36m\u001b[1mFetching:\u001b[22m\u001b[39m [===========>                             ]  26.1 %\u001b[36m\u001b[1mFetching:\u001b[22m\u001b[39m [============>                            ]  28.8 %\u001b[36m\u001b[1mFetching:\u001b[22m\u001b[39m [=================>                       ]  41.7 %\u001b[36m\u001b[1mFetching:\u001b[22m\u001b[39m [==================>                      ]  44.8 %\u001b[36m\u001b[1mFetching:\u001b[22m\u001b[39m [===================>                     ]  47.1 %\u001b[36m\u001b[1mFetching:\u001b[22m\u001b[39m [==========================>              ]  62.7 %\u001b[36m\u001b[1mFetching:\u001b[22m\u001b[39m [===========================>             ]  66.9 %\u001b[36m\u001b[1mFetching:\u001b[22m\u001b[39m [==================================>      ]  84.3 %\u001b[36m\u001b[1mFetching:\u001b[22m\u001b[39m [===================================>     ]  85.0 %\u001b[36m\u001b[1mFetching:\u001b[22m\u001b[39m [===================================>     ]  85.9 %89.3 %\u001b[32m\u001b[1m Resolving\u001b[22m\u001b[39m package versions...\n",
      "\u001b[32m\u001b[1m Installed\u001b[22m\u001b[39m LaTeXStrings ──────── v1.2.0\n",
      "\u001b[32m\u001b[1m Installed\u001b[22m\u001b[39m StatsPlots ────────── v0.14.13\n",
      "\u001b[32m\u001b[1m Installed\u001b[22m\u001b[39m Query ─────────────── v1.0.0\n",
      "\u001b[32m\u001b[1m Installed\u001b[22m\u001b[39m IJulia ────────────── v1.21.4\n",
      "\u001b[32m\u001b[1m Installed\u001b[22m\u001b[39m Distributions ─────── v0.23.12\n",
      "\u001b[32m\u001b[1m Installed\u001b[22m\u001b[39m DataFrames ────────── v0.21.7\n",
      "\u001b[32m\u001b[1m Installed\u001b[22m\u001b[39m PGFPlotsX ─────────── v1.2.10\n",
      "\u001b[32m\u001b[1m Installed\u001b[22m\u001b[39m MKL_jll ───────────── v2020.2.254+0\n",
      "\u001b[32m\u001b[1m Installed\u001b[22m\u001b[39m OrderedCollections ── v1.3.1\n",
      "\u001b[32m\u001b[1m Installed\u001b[22m\u001b[39m Parsers ───────────── v1.0.10\n",
      "\u001b[32m\u001b[1m Installed\u001b[22m\u001b[39m Distances ─────────── v0.9.1\n",
      "\u001b[32m\u001b[1m Installed\u001b[22m\u001b[39m Requires ──────────── v1.1.0\n",
      "\u001b[32m\u001b[1m Installed\u001b[22m\u001b[39m Colors ────────────── v0.12.4\n",
      "\u001b[32m\u001b[1m Installed\u001b[22m\u001b[39m CategoricalArrays ─── v0.8.3\n",
      "\u001b[32m\u001b[1m Installed\u001b[22m\u001b[39m LAME_jll ──────────── v3.100.0+2\n",
      "\u001b[32m\u001b[1m Installed\u001b[22m\u001b[39m libvorbis_jll ─────── v1.3.6+5\n",
      "\u001b[32m\u001b[1m Installed\u001b[22m\u001b[39m RecipesBase ───────── v1.1.0\n",
      "\u001b[32m\u001b[1m Installed\u001b[22m\u001b[39m MbedTLS_jll ───────── v2.16.8+0\n",
      "\u001b[32m\u001b[1m Installed\u001b[22m\u001b[39m StructTypes ───────── v1.1.0\n",
      "\u001b[32m\u001b[1m Installed\u001b[22m\u001b[39m StatsBase ─────────── v0.33.1\n",
      "\u001b[32m\u001b[1m Installed\u001b[22m\u001b[39m libass_jll ────────── v0.14.0+3\n",
      "\u001b[32m\u001b[1m Installed\u001b[22m\u001b[39m EarCut_jll ────────── v2.1.5+0\n",
      "\u001b[32m\u001b[1m Installed\u001b[22m\u001b[39m LibVPX_jll ────────── v1.9.0+0\n",
      "\u001b[32m\u001b[1m Installed\u001b[22m\u001b[39m Adapt ─────────────── v2.3.0\n",
      "\u001b[32m\u001b[1m Installed\u001b[22m\u001b[39m FixedPointNumbers ─── v0.8.4\n",
      "\u001b[32m\u001b[1m Installed\u001b[22m\u001b[39m CSV ───────────────── v0.7.7\n",
      "\u001b[32m\u001b[1m Installed\u001b[22m\u001b[39m FFMPEG ────────────── v0.4.0\n",
      "\u001b[32m\u001b[1m Installed\u001b[22m\u001b[39m OpenBLAS_jll ──────── v0.3.10+0\n",
      "\u001b[32m\u001b[1m Installed\u001b[22m\u001b[39m Plots ─────────────── v1.6.8\n",
      "\u001b[32m\u001b[1m Installed\u001b[22m\u001b[39m HTTP ──────────────── v0.8.19\n",
      "\u001b[32m\u001b[1m Installed\u001b[22m\u001b[39m Bzip2_jll ─────────── v1.0.6+4\n",
      "\u001b[32m\u001b[1m Installed\u001b[22m\u001b[39m ColorTypes ────────── v0.10.9\n",
      "\u001b[32m\u001b[1m Installed\u001b[22m\u001b[39m Showoff ───────────── v0.3.2\n",
      "\u001b[32m\u001b[1m Installed\u001b[22m\u001b[39m OpenSSL_jll ───────── v1.1.1+5\n",
      "\u001b[32m\u001b[1m Installed\u001b[22m\u001b[39m PDMats ────────────── v0.10.1\n",
      "\u001b[32m\u001b[1m Installed\u001b[22m\u001b[39m Tables ────────────── v1.1.0\n",
      "\u001b[32m\u001b[1m Installed\u001b[22m\u001b[39m GR ────────────────── v0.52.0\n",
      "\u001b[32m\u001b[1m Installed\u001b[22m\u001b[39m SoftGlobalScope ───── v1.1.0\n",
      "\u001b[32m\u001b[1m Installed\u001b[22m\u001b[39m FillArrays ────────── v0.9.6\n",
      "\u001b[32m\u001b[1m Installed\u001b[22m\u001b[39m Zlib_jll ──────────── v1.2.11+16\n",
      "\u001b[32m\u001b[1m Installed\u001b[22m\u001b[39m PlotUtils ─────────── v1.0.7\n",
      "\u001b[32m\u001b[1m Installed\u001b[22m\u001b[39m GeometryBasics ────── v0.3.1\n",
      "\u001b[32m\u001b[1m Installed\u001b[22m\u001b[39m FreeType2_jll ─────── v2.10.1+4\n",
      "\u001b[32m\u001b[1m Installed\u001b[22m\u001b[39m ColorSchemes ──────── v3.10.1\n",
      "\u001b[32m\u001b[1m Installed\u001b[22m\u001b[39m UnPack ────────────── v1.0.2\n",
      "\u001b[32m\u001b[1m Installed\u001b[22m\u001b[39m Missings ──────────── v0.4.4\n",
      "\u001b[32m\u001b[1m Installed\u001b[22m\u001b[39m Grisu ─────────────── v1.0.0\n",
      "\u001b[32m\u001b[1m Installed\u001b[22m\u001b[39m DocStringExtensions ─ v0.8.3\n",
      "\u001b[32m\u001b[1m Installed\u001b[22m\u001b[39m QuadGK ────────────── v2.4.1\n",
      "\u001b[32m\u001b[1m Installed\u001b[22m\u001b[39m KernelDensity ─────── v0.6.0\n",
      "\u001b[32m\u001b[1m Installed\u001b[22m\u001b[39m FriBidi_jll ───────── v1.0.5+5\n",
      "\u001b[32m\u001b[1m Installed\u001b[22m\u001b[39m ArgCheck ──────────── v2.1.0\n",
      "\u001b[32m\u001b[1m Installed\u001b[22m\u001b[39m NearestNeighbors ──── v0.4.6\n",
      "\u001b[32m\u001b[1m Installed\u001b[22m\u001b[39m QueryOperators ────── v0.9.2\n",
      "\u001b[32m\u001b[1m Installed\u001b[22m\u001b[39m libfdk_aac_jll ────── v0.1.6+3\n",
      "\u001b[32m\u001b[1m Installed\u001b[22m\u001b[39m x264_jll ──────────── v2020.7.14+1\n",
      "\u001b[32m\u001b[1m Installed\u001b[22m\u001b[39m OffsetArrays ──────── v1.3.0\n",
      "\u001b[32m\u001b[1m Installed\u001b[22m\u001b[39m x265_jll ──────────── v3.0.0+2\n",
      "\u001b[32m\u001b[1m Installed\u001b[22m\u001b[39m FFTW ──────────────── v1.2.4\n",
      "\u001b[32m\u001b[1m Installed\u001b[22m\u001b[39m SentinelArrays ────── v1.2.16\n",
      "\u001b[32m\u001b[1m Installed\u001b[22m\u001b[39m RecipesPipeline ───── v0.1.13\n",
      "\u001b[32m\u001b[1m Installed\u001b[22m\u001b[39m FFMPEG_jll ────────── v4.3.1+2\n",
      "\u001b[32m\u001b[1m Installed\u001b[22m\u001b[39m Compat ────────────── v3.18.0\n",
      "\u001b[32m\u001b[1m Installed\u001b[22m\u001b[39m Opus_jll ──────────── v1.3.1+2\n",
      "\u001b[32m\u001b[1m Installed\u001b[22m\u001b[39m Contour ───────────── v0.5.5\n",
      "\u001b[32m\u001b[1m Installed\u001b[22m\u001b[39m Ogg_jll ───────────── v1.3.4+1\n",
      "\u001b[32m\u001b[1m Installed\u001b[22m\u001b[39m JSON ──────────────── v0.21.1\n",
      "\u001b[32m\u001b[1m Installed\u001b[22m\u001b[39m DataStructures ────── v0.17.20\n",
      "\u001b[32m\u001b[1m  Updating\u001b[22m\u001b[39m `~/.julia/environments/v1.3/Project.toml`\n",
      " \u001b[90m [336ed68f]\u001b[39m\u001b[93m ↑ CSV v0.7.3 ⇒ v0.7.7\u001b[39m\n",
      " \u001b[90m [a93c6f00]\u001b[39m\u001b[93m ↑ DataFrames v0.21.4 ⇒ v0.21.7\u001b[39m\n",
      " \u001b[90m [31c24e10]\u001b[39m\u001b[93m ↑ Distributions v0.23.4 ⇒ v0.23.12\u001b[39m\n",
      " \u001b[90m [7073ff75]\u001b[39m\u001b[93m ↑ IJulia v1.21.2 ⇒ v1.21.4\u001b[39m\n",
      " \u001b[90m [b964fa9f]\u001b[39m\u001b[93m ↑ LaTeXStrings v1.1.0 ⇒ v1.2.0\u001b[39m\n",
      " \u001b[90m [8314cec4]\u001b[39m\u001b[93m ↑ PGFPlotsX v1.2.8 ⇒ v1.2.10\u001b[39m\n",
      " \u001b[90m [1a8c2f83]\u001b[39m\u001b[93m ↑ Query v0.12.2 ⇒ v1.0.0\u001b[39m\n",
      " \u001b[90m [f3b207a7]\u001b[39m\u001b[93m ↑ StatsPlots v0.14.6 ⇒ v0.14.13\u001b[39m\n",
      "\u001b[32m\u001b[1m  Updating\u001b[22m\u001b[39m `~/.julia/environments/v1.3/Manifest.toml`\n",
      " \u001b[90m [79e6a3ab]\u001b[39m\u001b[93m ↑ Adapt v2.0.2 ⇒ v2.3.0\u001b[39m\n",
      " \u001b[90m [dce04be8]\u001b[39m\u001b[93m ↑ ArgCheck v2.0.0 ⇒ v2.1.0\u001b[39m\n",
      " \u001b[90m [4fba245c]\u001b[39m\u001b[91m - ArrayInterface v2.9.1\u001b[39m\n",
      " \u001b[90m [6e34b625]\u001b[39m\u001b[93m ↑ Bzip2_jll v1.0.6+2 ⇒ v1.0.6+4\u001b[39m\n",
      " \u001b[90m [336ed68f]\u001b[39m\u001b[93m ↑ CSV v0.7.3 ⇒ v0.7.7\u001b[39m\n",
      " \u001b[90m [324d7699]\u001b[39m\u001b[93m ↑ CategoricalArrays v0.8.1 ⇒ v0.8.3\u001b[39m\n",
      " \u001b[90m [35d6a980]\u001b[39m\u001b[93m ↑ ColorSchemes v3.9.0 ⇒ v3.10.1\u001b[39m\n",
      " \u001b[90m [3da002f7]\u001b[39m\u001b[93m ↑ ColorTypes v0.10.6 ⇒ v0.10.9\u001b[39m\n",
      " \u001b[90m [5ae59095]\u001b[39m\u001b[93m ↑ Colors v0.12.3 ⇒ v0.12.4\u001b[39m\n",
      " \u001b[90m [bbf7d656]\u001b[39m\u001b[91m - CommonSubexpressions v0.3.0\u001b[39m\n",
      " \u001b[90m [34da2185]\u001b[39m\u001b[93m ↑ Compat v3.13.0 ⇒ v3.18.0\u001b[39m\n",
      " \u001b[90m [d38c429a]\u001b[39m\u001b[93m ↑ Contour v0.5.4 ⇒ v0.5.5\u001b[39m\n",
      " \u001b[90m [a93c6f00]\u001b[39m\u001b[93m ↑ DataFrames v0.21.4 ⇒ v0.21.7\u001b[39m\n",
      " \u001b[90m [864edb3b]\u001b[39m\u001b[93m ↑ DataStructures v0.17.19 ⇒ v0.17.20\u001b[39m\n",
      " \u001b[90m [163ba53b]\u001b[39m\u001b[91m - DiffResults v1.0.2\u001b[39m\n",
      " \u001b[90m [b552c78f]\u001b[39m\u001b[91m - DiffRules v1.0.1\u001b[39m\n",
      " \u001b[90m [b4f34e82]\u001b[39m\u001b[93m ↑ Distances v0.8.2 ⇒ v0.9.1\u001b[39m\n",
      " \u001b[90m [31c24e10]\u001b[39m\u001b[93m ↑ Distributions v0.23.4 ⇒ v0.23.12\u001b[39m\n",
      " \u001b[90m [ffbed154]\u001b[39m\u001b[93m ↑ DocStringExtensions v0.8.2 ⇒ v0.8.3\u001b[39m\n",
      " \u001b[90m [5ae413db]\u001b[39m\u001b[92m + EarCut_jll v2.1.5+0\u001b[39m\n",
      " \u001b[90m [c87230d0]\u001b[39m\u001b[93m ↑ FFMPEG v0.3.0 ⇒ v0.4.0\u001b[39m\n",
      " \u001b[90m [b22a6f82]\u001b[39m\u001b[93m ↑ FFMPEG_jll v4.1.0+3 ⇒ v4.3.1+2\u001b[39m\n",
      " \u001b[90m [7a1cc6ca]\u001b[39m\u001b[93m ↑ FFTW v1.2.2 ⇒ v1.2.4\u001b[39m\n",
      " \u001b[90m [1a297f60]\u001b[39m\u001b[93m ↑ FillArrays v0.8.13 ⇒ v0.9.6\u001b[39m\n",
      " \u001b[90m [6a86dc24]\u001b[39m\u001b[91m - FiniteDiff v2.4.1\u001b[39m\n",
      " \u001b[90m [53c48c17]\u001b[39m\u001b[93m ↑ FixedPointNumbers v0.8.2 ⇒ v0.8.4\u001b[39m\n",
      " \u001b[90m [f6369f11]\u001b[39m\u001b[91m - ForwardDiff v0.10.12\u001b[39m\n",
      " \u001b[90m [d7e528f0]\u001b[39m\u001b[93m ↑ FreeType2_jll v2.10.1+2 ⇒ v2.10.1+4\u001b[39m\n",
      " \u001b[90m [559328eb]\u001b[39m\u001b[93m ↑ FriBidi_jll v1.0.5+3 ⇒ v1.0.5+5\u001b[39m\n",
      " \u001b[90m [28b8d3ca]\u001b[39m\u001b[93m ↑ GR v0.50.1 ⇒ v0.52.0\u001b[39m\n",
      " \u001b[90m [5c1252a2]\u001b[39m\u001b[93m ↑ GeometryBasics v0.2.15 ⇒ v0.3.1\u001b[39m\n",
      " \u001b[90m [42e2da0e]\u001b[39m\u001b[92m + Grisu v1.0.0\u001b[39m\n",
      " \u001b[90m [cd3eb016]\u001b[39m\u001b[93m ↑ HTTP v0.8.16 ⇒ v0.8.19\u001b[39m\n",
      " \u001b[90m [7073ff75]\u001b[39m\u001b[93m ↑ IJulia v1.21.2 ⇒ v1.21.4\u001b[39m\n",
      " \u001b[90m [682c06a0]\u001b[39m\u001b[93m ↑ JSON v0.21.0 ⇒ v0.21.1\u001b[39m\n",
      " \u001b[90m [5ab0869b]\u001b[39m\u001b[93m ↑ KernelDensity v0.5.1 ⇒ v0.6.0\u001b[39m\n",
      " \u001b[90m [c1c5ebd0]\u001b[39m\u001b[93m ↑ LAME_jll v3.100.0+1 ⇒ v3.100.0+2\u001b[39m\n",
      " \u001b[90m [b964fa9f]\u001b[39m\u001b[93m ↑ LaTeXStrings v1.1.0 ⇒ v1.2.0\u001b[39m\n",
      " \u001b[90m [dd192d2f]\u001b[39m\u001b[93m ↑ LibVPX_jll v1.8.1+1 ⇒ v1.9.0+0\u001b[39m\n",
      " \u001b[90m [d3d80556]\u001b[39m\u001b[91m - LineSearches v7.0.1\u001b[39m\n",
      " \u001b[90m [856f044c]\u001b[39m\u001b[93m ↑ MKL_jll v2020.1.216+0 ⇒ v2020.2.254+0\u001b[39m\n",
      " \u001b[90m [c8ffd9c3]\u001b[39m\u001b[93m ↑ MbedTLS_jll v2.16.6+1 ⇒ v2.16.8+0\u001b[39m\n",
      " \u001b[90m [e1d29d7a]\u001b[39m\u001b[93m ↑ Missings v0.4.3 ⇒ v0.4.4\u001b[39m\n",
      " \u001b[90m [d41bc354]\u001b[39m\u001b[91m - NLSolversBase v7.6.1\u001b[39m\n",
      " \u001b[90m [b8a86587]\u001b[39m\u001b[93m ↑ NearestNeighbors v0.4.4 ⇒ v0.4.6\u001b[39m\n",
      " \u001b[90m [6fe1bfb0]\u001b[39m\u001b[93m ↑ OffsetArrays v1.1.1 ⇒ v1.3.0\u001b[39m\n",
      " \u001b[90m [e7412a2a]\u001b[39m\u001b[93m ↑ Ogg_jll v1.3.4+0 ⇒ v1.3.4+1\u001b[39m\n",
      " \u001b[90m [4536629a]\u001b[39m\u001b[93m ↑ OpenBLAS_jll v0.3.9+5 ⇒ v0.3.10+0\u001b[39m\n",
      " \u001b[90m [458c3c95]\u001b[39m\u001b[93m ↑ OpenSSL_jll v1.1.1+4 ⇒ v1.1.1+5\u001b[39m\n",
      " \u001b[90m [429524aa]\u001b[39m\u001b[91m - Optim v0.22.0\u001b[39m\n",
      " \u001b[90m [91d4177d]\u001b[39m\u001b[93m ↑ Opus_jll v1.3.1+1 ⇒ v1.3.1+2\u001b[39m\n",
      " \u001b[90m [bac558e1]\u001b[39m\u001b[93m ↑ OrderedCollections v1.3.0 ⇒ v1.3.1\u001b[39m\n",
      " \u001b[90m [90014a1f]\u001b[39m\u001b[93m ↑ PDMats v0.9.12 ⇒ v0.10.1\u001b[39m\n",
      " \u001b[90m [8314cec4]\u001b[39m\u001b[93m ↑ PGFPlotsX v1.2.8 ⇒ v1.2.10\u001b[39m\n",
      " \u001b[90m [69de0a69]\u001b[39m\u001b[93m ↑ Parsers v1.0.7 ⇒ v1.0.10\u001b[39m\n",
      " \u001b[90m [995b91a9]\u001b[39m\u001b[93m ↑ PlotUtils v1.0.5 ⇒ v1.0.7\u001b[39m\n",
      " \u001b[90m [91a5bcdd]\u001b[39m\u001b[93m ↑ Plots v1.5.4 ⇒ v1.6.8\u001b[39m\n",
      " \u001b[90m [85a6dd25]\u001b[39m\u001b[91m - PositiveFactorizations v0.2.3\u001b[39m\n"
     ]
    },
    {
     "name": "stdout",
     "output_type": "stream",
     "text": [
      " \u001b[90m [1fd47b50]\u001b[39m\u001b[93m ↑ QuadGK v2.4.0 ⇒ v2.4.1\u001b[39m\n",
      " \u001b[90m [1a8c2f83]\u001b[39m\u001b[93m ↑ Query v0.12.2 ⇒ v1.0.0\u001b[39m\n",
      " \u001b[90m [2aef5ad7]\u001b[39m\u001b[93m ↑ QueryOperators v0.9.1 ⇒ v0.9.2\u001b[39m\n",
      " \u001b[90m [3cdcf5f2]\u001b[39m\u001b[93m ↑ RecipesBase v1.0.1 ⇒ v1.1.0\u001b[39m\n",
      " \u001b[90m [01d81517]\u001b[39m\u001b[93m ↑ RecipesPipeline v0.1.11 ⇒ v0.1.13\u001b[39m\n",
      " \u001b[90m [ae029012]\u001b[39m\u001b[93m ↑ Requires v1.0.1 ⇒ v1.1.0\u001b[39m\n",
      " \u001b[90m [91c51154]\u001b[39m\u001b[93m ↑ SentinelArrays v1.2.8 ⇒ v1.2.16\u001b[39m\n",
      " \u001b[90m [992d4aef]\u001b[39m\u001b[93m ↑ Showoff v0.3.1 ⇒ v0.3.2\u001b[39m\n",
      " \u001b[90m [b85f4697]\u001b[39m\u001b[93m ↑ SoftGlobalScope v1.0.10 ⇒ v1.1.0\u001b[39m\n",
      " \u001b[90m [2913bbd2]\u001b[39m\u001b[93m ↑ StatsBase v0.33.0 ⇒ v0.33.1\u001b[39m\n",
      " \u001b[90m [f3b207a7]\u001b[39m\u001b[93m ↑ StatsPlots v0.14.6 ⇒ v0.14.13\u001b[39m\n",
      " \u001b[90m [856f2bd8]\u001b[39m\u001b[92m + StructTypes v1.1.0\u001b[39m\n",
      " \u001b[90m [bd369af6]\u001b[39m\u001b[93m ↑ Tables v1.0.4 ⇒ v1.1.0\u001b[39m\n",
      " \u001b[90m [3a884ed6]\u001b[39m\u001b[93m ↑ UnPack v1.0.1 ⇒ v1.0.2\u001b[39m\n",
      " \u001b[90m [83775a58]\u001b[39m\u001b[93m ↑ Zlib_jll v1.2.11+14 ⇒ v1.2.11+16\u001b[39m\n",
      " \u001b[90m [0ac62f75]\u001b[39m\u001b[93m ↑ libass_jll v0.14.0+2 ⇒ v0.14.0+3\u001b[39m\n",
      " \u001b[90m [f638f0a6]\u001b[39m\u001b[93m ↑ libfdk_aac_jll v0.1.6+2 ⇒ v0.1.6+3\u001b[39m\n",
      " \u001b[90m [f27f6e37]\u001b[39m\u001b[93m ↑ libvorbis_jll v1.3.6+4 ⇒ v1.3.6+5\u001b[39m\n",
      " \u001b[90m [1270edf5]\u001b[39m\u001b[93m ↑ x264_jll v2019.5.25+2 ⇒ v2020.7.14+1\u001b[39m\n",
      " \u001b[90m [dfaa095f]\u001b[39m\u001b[93m ↑ x265_jll v3.0.0+1 ⇒ v3.0.0+2\u001b[39m\n",
      "\u001b[32m\u001b[1m  Building\u001b[22m\u001b[39m IJulia → `~/.julia/packages/IJulia/rWZ9e/deps/build.log`\n",
      "\u001b[32m\u001b[1m  Building\u001b[22m\u001b[39m GR ────→ `~/.julia/packages/GR/BwGt2/deps/build.log`\n",
      "\u001b[32m\u001b[1m  Building\u001b[22m\u001b[39m Plots ─→ `~/.julia/packages/Plots/hyS17/deps/build.log`\n",
      "\u001b[32m\u001b[1m  Building\u001b[22m\u001b[39m FFTW ──→ `~/.julia/packages/FFTW/DMUbN/deps/build.log`\n"
     ]
    }
   ],
   "source": [
    "] up"
   ]
  },
  {
   "cell_type": "markdown",
   "metadata": {},
   "source": [
    "Verificando o status dos pacotes, e se há algum problema, com o comando:"
   ]
  },
  {
   "cell_type": "code",
   "execution_count": 4,
   "metadata": {},
   "outputs": [
    {
     "name": "stdout",
     "output_type": "stream",
     "text": [
      "\u001b[32m\u001b[1m    Status\u001b[22m\u001b[39m `~/.julia/environments/v1.3/Project.toml`\n",
      " \u001b[90m [336ed68f]\u001b[39m\u001b[37m CSV v0.7.7\u001b[39m\n",
      " \u001b[90m [a93c6f00]\u001b[39m\u001b[37m DataFrames v0.21.7\u001b[39m\n",
      " \u001b[90m [31c24e10]\u001b[39m\u001b[37m Distributions v0.23.12\u001b[39m\n",
      " \u001b[90m [7073ff75]\u001b[39m\u001b[37m IJulia v1.21.4\u001b[39m\n",
      " \u001b[90m [b964fa9f]\u001b[39m\u001b[37m LaTeXStrings v1.2.0\u001b[39m\n",
      " \u001b[90m [8314cec4]\u001b[39m\u001b[37m PGFPlotsX v1.2.10\u001b[39m\n",
      " \u001b[90m [1a8c2f83]\u001b[39m\u001b[37m Query v1.0.0\u001b[39m\n",
      " \u001b[90m [f3b207a7]\u001b[39m\u001b[37m StatsPlots v0.14.13\u001b[39m\n",
      " \u001b[90m [10745b16]\u001b[39m\u001b[37m Statistics \u001b[39m\n"
     ]
    }
   ],
   "source": [
    "] st"
   ]
  },
  {
   "cell_type": "markdown",
   "metadata": {},
   "source": [
    "## Compilando última versão do arquivo"
   ]
  },
  {
   "cell_type": "code",
   "execution_count": 7,
   "metadata": {},
   "outputs": [
    {
     "name": "stdout",
     "output_type": "stream",
     "text": [
      "make: Nothing to be done for 'ep'.\n"
     ]
    }
   ],
   "source": [
    "; make"
   ]
  },
  {
   "cell_type": "markdown",
   "metadata": {},
   "source": [
    "Testando entradas para o EP"
   ]
  },
  {
   "cell_type": "code",
   "execution_count": 2,
   "metadata": {},
   "outputs": [
    {
     "name": "stdout",
     "output_type": "stream",
     "text": [
      "Entrada inválida!"
     ]
    }
   ],
   "source": [
    "; ./ep1"
   ]
  },
  {
   "cell_type": "markdown",
   "metadata": {},
   "source": [
    "# Experimentos"
   ]
  },
  {
   "cell_type": "code",
   "execution_count": 44,
   "metadata": {},
   "outputs": [
    {
     "data": {
      "text/plain": [
       "\"make: Nothing to be done for 'ep'.\\n\""
      ]
     },
     "execution_count": 44,
     "metadata": {},
     "output_type": "execute_result"
    }
   ],
   "source": [
    "read(`make `, String)"
   ]
  },
  {
   "cell_type": "markdown",
   "metadata": {},
   "source": [
    "## Variáveis"
   ]
  },
  {
   "cell_type": "code",
   "execution_count": null,
   "metadata": {},
   "outputs": [],
   "source": [
    "repetitions = 30;\n",
    "pequeno = \"trace1\"; # 10\n",
    "medio = \"medio0\"; #100\n",
    "grande = \"grande0\"; #200"
   ]
  },
  {
   "cell_type": "markdown",
   "metadata": {},
   "source": [
    "## Funções"
   ]
  },
  {
   "cell_type": "code",
   "execution_count": 53,
   "metadata": {},
   "outputs": [
    {
     "data": {
      "text/plain": [
       "run_escalonador (generic function with 2 methods)"
      ]
     },
     "execution_count": 53,
     "metadata": {},
     "output_type": "execute_result"
    }
   ],
   "source": [
    "function run_escalonador(arquivo, escalonador, repetitions)\n",
    "    for r in 1:repetitions\n",
    "        println(\"repetição: \",r)\n",
    "        result = read(`time ./ep1 $escalonador $arquivo.txt data\\/$escalonador\\_$arquivo\\_saida\\_$r.txt `, String)\n",
    "    end\n",
    "    \n",
    "    return result\n",
    "end"
   ]
  },
  {
   "cell_type": "markdown",
   "metadata": {},
   "source": [
    "## Rodando experimentos com escalonador 1"
   ]
  },
  {
   "cell_type": "code",
   "execution_count": null,
   "metadata": {},
   "outputs": [
    {
     "name": "stdout",
     "output_type": "stream",
     "text": [
      "repetição: 1\n",
      "repetição: 2\n"
     ]
    },
    {
     "name": "stderr",
     "output_type": "stream",
     "text": [
      "83.93user 0.01system 1:25.03elapsed 98%CPU (0avgtext+0avgdata 1864maxresident)k\n",
      "0inputs+0outputs (0major+93minor)pagefaults 0swaps\n"
     ]
    },
    {
     "name": "stdout",
     "output_type": "stream",
     "text": [
      "repetição: 3\n"
     ]
    },
    {
     "name": "stderr",
     "output_type": "stream",
     "text": [
      "84.00user 0.00system 1:25.02elapsed 98%CPU (0avgtext+0avgdata 1928maxresident)k\n",
      "0inputs+0outputs (0major+96minor)pagefaults 0swaps\n"
     ]
    },
    {
     "name": "stdout",
     "output_type": "stream",
     "text": [
      "repetição: 4\n"
     ]
    },
    {
     "name": "stderr",
     "output_type": "stream",
     "text": [
      "84.01user 0.00system 1:25.02elapsed 98%CPU (0avgtext+0avgdata 1904maxresident)k\n",
      "0inputs+0outputs (0major+94minor)pagefaults 0swaps\n"
     ]
    },
    {
     "name": "stdout",
     "output_type": "stream",
     "text": [
      "repetição: 5\n"
     ]
    },
    {
     "name": "stderr",
     "output_type": "stream",
     "text": [
      "83.95user 0.00system 1:25.03elapsed 98%CPU (0avgtext+0avgdata 1904maxresident)k\n",
      "0inputs+0outputs (0major+93minor)pagefaults 0swaps\n"
     ]
    },
    {
     "name": "stdout",
     "output_type": "stream",
     "text": [
      "repetição: 6\n"
     ]
    },
    {
     "name": "stderr",
     "output_type": "stream",
     "text": [
      "83.90user 0.00system 1:25.03elapsed 98%CPU (0avgtext+0avgdata 1960maxresident)k\n",
      "0inputs+0outputs (0major+95minor)pagefaults 0swaps\n"
     ]
    },
    {
     "name": "stdout",
     "output_type": "stream",
     "text": [
      "repetição: 7\n"
     ]
    },
    {
     "name": "stderr",
     "output_type": "stream",
     "text": [
      "84.00user 0.00system 1:25.01elapsed 98%CPU (0avgtext+0avgdata 1784maxresident)k\n",
      "0inputs+0outputs (0major+92minor)pagefaults 0swaps\n"
     ]
    },
    {
     "name": "stdout",
     "output_type": "stream",
     "text": [
      "repetição: 8\n"
     ]
    },
    {
     "name": "stderr",
     "output_type": "stream",
     "text": [
      "83.96user 0.01system 1:25.01elapsed 98%CPU (0avgtext+0avgdata 1920maxresident)k\n",
      "0inputs+0outputs (0major+95minor)pagefaults 0swaps\n"
     ]
    },
    {
     "name": "stdout",
     "output_type": "stream",
     "text": [
      "repetição: 9\n"
     ]
    },
    {
     "name": "stderr",
     "output_type": "stream",
     "text": [
      "83.80user 0.04system 1:25.02elapsed 98%CPU (0avgtext+0avgdata 1836maxresident)k\n",
      "0inputs+0outputs (0major+94minor)pagefaults 0swaps\n"
     ]
    }
   ],
   "source": [
    "run_escalonador(pequeno, 1, 30)"
   ]
  },
  {
   "cell_type": "code",
   "execution_count": null,
   "metadata": {},
   "outputs": [],
   "source": [
    "run_escalonador(medio, 1, 30)"
   ]
  },
  {
   "cell_type": "code",
   "execution_count": null,
   "metadata": {},
   "outputs": [],
   "source": [
    "run_escalonador(grande, 1, 30)"
   ]
  },
  {
   "cell_type": "code",
   "execution_count": null,
   "metadata": {},
   "outputs": [],
   "source": []
  },
  {
   "cell_type": "markdown",
   "metadata": {},
   "source": [
    "# anotações"
   ]
  },
  {
   "cell_type": "code",
   "execution_count": null,
   "metadata": {},
   "outputs": [],
   "source": [
    "function measure_escalonador(arquivo)    \n",
    "    \n",
    "    # para este EP só serao feitas comparacoes usando a regiao triple spiral\n",
    "    mode = `-0.188 -0.012 0.554 0.754` #triple spiral\n",
    "    size = 4096\n",
    "    saida = \n",
    "    \n",
    "    if thread != 0       # PThreads e OpenMP\n",
    "        if process != 0\n",
    "            results = parse.(Float64,\n",
    "                split(chomp(read(`mpirun --hostfile hostfile -np $process ./$mandel $mode $size $thread `, String)), \",\"))\n",
    "        else\n",
    "            results = parse.(Float64,\n",
    "                split(chomp(read(`./$mandel $mode $size $thread `, String)), \",\"))\n",
    "        end\n",
    "        \n",
    "    else\n",
    "        \n",
    "        if process != 0  # OMPI\n",
    "            results = parse.(Float64, \n",
    "                        split(chomp(read(`mpirun -n $process ./$mandel $mode $size `, String)), \",\"))\n",
    "        else\n",
    "            \n",
    "            if grid != 0 # CUDA\n",
    "                println(grid,bloco)\n",
    "                results = parse.(Float64,\n",
    "                        split(chomp(read(`./$mandel $mode $size $grid $bloco `, String)), \",\"))\n",
    "            \n",
    "            else         # Sequencial\n",
    "                results = parse.(Float64,\n",
    "                    split(chomp(read(`./$mandel $mode $size`, String)), \",\"))\n",
    "            end  \n",
    "        end \n",
    "    end\n",
    "    \n",
    "    return DataFrame(\n",
    "        threads = thread,\n",
    "        processes = process,\n",
    "        griddim = grid,\n",
    "        blocos = bloco,\n",
    "        duration = results[1],\n",
    "        io_alocation = results[2])\n",
    "end"
   ]
  },
  {
   "cell_type": "code",
   "execution_count": null,
   "metadata": {},
   "outputs": [],
   "source": [
    "function run_experiments(mandel, repetitions; threads = [], process = [], grid = [], bloco = [])\n",
    "    run(`make $mandel`)\n",
    "        \n",
    "    results = DataFrame(\n",
    "        threads = Int[],\n",
    "        processes = Int[],\n",
    "        griddim = Int[],\n",
    "        blocos = Int[],\n",
    "        duration = Float64[],\n",
    "        io_alocation = Float64[]) \n",
    "    \n",
    "    if threads != [] # Implementação em OpenMP ou PThreads\n",
    "        if process == []\n",
    "            for t in threads\n",
    "                for r in 1:repetitions\n",
    "                    append!(results,\n",
    "                        measure_mandelbrot(mandel, thread = t))    \n",
    "                end\n",
    "            end\n",
    "        else\n",
    "            for p in process\n",
    "                println(\"process\", p)\n",
    "                for t in threads\n",
    "                    println(\"threads\", t)\n",
    "                    for r in 1: repetitions\n",
    "                        println(\"rep\", r)\n",
    "                        append!(results,\n",
    "                        measure_mandelbrot(mandel, thread = t, process = p))\n",
    "                    end\n",
    "                end\n",
    "            end\n",
    "        end\n",
    "    else\n",
    "    \n",
    "        if process != [] # Implementação em OMPI\n",
    "            \n",
    "            for p in process\n",
    "                println(\"process\",p)\n",
    "                for r in 1:repetitions\n",
    "                    println(\"rep\",r)\n",
    "                    append!(results,\n",
    "                        measure_mandelbrot(mandel, process = p))    \n",
    "                end\n",
    "            end \n",
    "        else\n",
    "            if grid != [] # Implementação em CUDA\n",
    "                println(\"Started\")\n",
    "                for g in grid\n",
    "                    println(\"grid: \",g)\n",
    "                    for b in bloco\n",
    "                        println(\"bloco: \",b)\n",
    "                        for r in 1:repetitions\n",
    "                            println(\"rep: \",r)\n",
    "                            append!(results,\n",
    "                                measure_mandelbrot(mandel, grid = g, bloco  = b))    \n",
    "                        end\n",
    "                    end\n",
    "                end \n",
    "                \n",
    "            else \n",
    "                # Implementação sequencial\n",
    "                for r in 1:repetitions\n",
    "                    for s in size\n",
    "                        append!(results,\n",
    "                            measure_mandelbrot(mandel))    \n",
    "                    end\n",
    "                end\n",
    "            end\n",
    "        end\n",
    "    end\n",
    "    \n",
    "    return results\n",
    "end"
   ]
  },
  {
   "cell_type": "code",
   "execution_count": null,
   "metadata": {},
   "outputs": [],
   "source": []
  }
 ],
 "metadata": {
  "hide_input": false,
  "kernelspec": {
   "display_name": "Julia 1.3.1",
   "language": "julia",
   "name": "julia-1.3"
  },
  "language_info": {
   "file_extension": ".jl",
   "mimetype": "application/julia",
   "name": "julia",
   "version": "1.3.1"
  },
  "toc": {
   "base_numbering": 1,
   "nav_menu": {},
   "number_sections": true,
   "sideBar": true,
   "skip_h1_title": false,
   "title_cell": "Table of Contents",
   "title_sidebar": "Contents",
   "toc_cell": false,
   "toc_position": {},
   "toc_section_display": true,
   "toc_window_display": false
  }
 },
 "nbformat": 4,
 "nbformat_minor": 4
}
