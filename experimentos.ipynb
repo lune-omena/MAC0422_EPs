{
 "cells": [
  {
   "cell_type": "markdown",
   "metadata": {},
   "source": [
    "# Testes com escalonadores"
   ]
  },
  {
   "cell_type": "markdown",
   "metadata": {},
   "source": [
    "## Configuração do ambiente\n",
    "\n",
    "Atualizando os pacotes Julia"
   ]
  },
  {
   "cell_type": "code",
   "execution_count": 3,
   "metadata": {},
   "outputs": [
    {
     "name": "stdout",
     "output_type": "stream",
     "text": [
      "\u001b[32m\u001b[1m  Updating\u001b[22m\u001b[39m registry at `~/.julia/registries/General`\n",
      "\u001b[32m\u001b[1m  Updating\u001b[22m\u001b[39m git-repo `https://github.com/JuliaRegistries/General.git`\n",
      "\u001b[2K\u001b[?25h[1mFetching:\u001b[22m\u001b[39m [========================================>]  99.9 %0.0 %\u001b[36m\u001b[1mFetching:\u001b[22m\u001b[39m [=========>                               ]  20.5 %\u001b[36m\u001b[1mFetching:\u001b[22m\u001b[39m [==========>                              ]  23.3 %\u001b[36m\u001b[1mFetching:\u001b[22m\u001b[39m [===========>                             ]  26.1 %\u001b[36m\u001b[1mFetching:\u001b[22m\u001b[39m [============>                            ]  28.8 %\u001b[36m\u001b[1mFetching:\u001b[22m\u001b[39m [=================>                       ]  41.7 %\u001b[36m\u001b[1mFetching:\u001b[22m\u001b[39m [==================>                      ]  44.8 %\u001b[36m\u001b[1mFetching:\u001b[22m\u001b[39m [===================>                     ]  47.1 %\u001b[36m\u001b[1mFetching:\u001b[22m\u001b[39m [==========================>              ]  62.7 %\u001b[36m\u001b[1mFetching:\u001b[22m\u001b[39m [===========================>             ]  66.9 %\u001b[36m\u001b[1mFetching:\u001b[22m\u001b[39m [==================================>      ]  84.3 %\u001b[36m\u001b[1mFetching:\u001b[22m\u001b[39m [===================================>     ]  85.0 %\u001b[36m\u001b[1mFetching:\u001b[22m\u001b[39m [===================================>     ]  85.9 %89.3 %\u001b[32m\u001b[1m Resolving\u001b[22m\u001b[39m package versions...\n",
      "\u001b[32m\u001b[1m Installed\u001b[22m\u001b[39m LaTeXStrings ──────── v1.2.0\n",
      "\u001b[32m\u001b[1m Installed\u001b[22m\u001b[39m StatsPlots ────────── v0.14.13\n",
      "\u001b[32m\u001b[1m Installed\u001b[22m\u001b[39m Query ─────────────── v1.0.0\n",
      "\u001b[32m\u001b[1m Installed\u001b[22m\u001b[39m IJulia ────────────── v1.21.4\n",
      "\u001b[32m\u001b[1m Installed\u001b[22m\u001b[39m Distributions ─────── v0.23.12\n",
      "\u001b[32m\u001b[1m Installed\u001b[22m\u001b[39m DataFrames ────────── v0.21.7\n",
      "\u001b[32m\u001b[1m Installed\u001b[22m\u001b[39m PGFPlotsX ─────────── v1.2.10\n",
      "\u001b[32m\u001b[1m Installed\u001b[22m\u001b[39m MKL_jll ───────────── v2020.2.254+0\n",
      "\u001b[32m\u001b[1m Installed\u001b[22m\u001b[39m OrderedCollections ── v1.3.1\n",
      "\u001b[32m\u001b[1m Installed\u001b[22m\u001b[39m Parsers ───────────── v1.0.10\n",
      "\u001b[32m\u001b[1m Installed\u001b[22m\u001b[39m Distances ─────────── v0.9.1\n",
      "\u001b[32m\u001b[1m Installed\u001b[22m\u001b[39m Requires ──────────── v1.1.0\n",
      "\u001b[32m\u001b[1m Installed\u001b[22m\u001b[39m Colors ────────────── v0.12.4\n",
      "\u001b[32m\u001b[1m Installed\u001b[22m\u001b[39m CategoricalArrays ─── v0.8.3\n",
      "\u001b[32m\u001b[1m Installed\u001b[22m\u001b[39m LAME_jll ──────────── v3.100.0+2\n",
      "\u001b[32m\u001b[1m Installed\u001b[22m\u001b[39m libvorbis_jll ─────── v1.3.6+5\n",
      "\u001b[32m\u001b[1m Installed\u001b[22m\u001b[39m RecipesBase ───────── v1.1.0\n",
      "\u001b[32m\u001b[1m Installed\u001b[22m\u001b[39m MbedTLS_jll ───────── v2.16.8+0\n",
      "\u001b[32m\u001b[1m Installed\u001b[22m\u001b[39m StructTypes ───────── v1.1.0\n",
      "\u001b[32m\u001b[1m Installed\u001b[22m\u001b[39m StatsBase ─────────── v0.33.1\n",
      "\u001b[32m\u001b[1m Installed\u001b[22m\u001b[39m libass_jll ────────── v0.14.0+3\n",
      "\u001b[32m\u001b[1m Installed\u001b[22m\u001b[39m EarCut_jll ────────── v2.1.5+0\n",
      "\u001b[32m\u001b[1m Installed\u001b[22m\u001b[39m LibVPX_jll ────────── v1.9.0+0\n",
      "\u001b[32m\u001b[1m Installed\u001b[22m\u001b[39m Adapt ─────────────── v2.3.0\n",
      "\u001b[32m\u001b[1m Installed\u001b[22m\u001b[39m FixedPointNumbers ─── v0.8.4\n",
      "\u001b[32m\u001b[1m Installed\u001b[22m\u001b[39m CSV ───────────────── v0.7.7\n",
      "\u001b[32m\u001b[1m Installed\u001b[22m\u001b[39m FFMPEG ────────────── v0.4.0\n",
      "\u001b[32m\u001b[1m Installed\u001b[22m\u001b[39m OpenBLAS_jll ──────── v0.3.10+0\n",
      "\u001b[32m\u001b[1m Installed\u001b[22m\u001b[39m Plots ─────────────── v1.6.8\n",
      "\u001b[32m\u001b[1m Installed\u001b[22m\u001b[39m HTTP ──────────────── v0.8.19\n",
      "\u001b[32m\u001b[1m Installed\u001b[22m\u001b[39m Bzip2_jll ─────────── v1.0.6+4\n",
      "\u001b[32m\u001b[1m Installed\u001b[22m\u001b[39m ColorTypes ────────── v0.10.9\n",
      "\u001b[32m\u001b[1m Installed\u001b[22m\u001b[39m Showoff ───────────── v0.3.2\n",
      "\u001b[32m\u001b[1m Installed\u001b[22m\u001b[39m OpenSSL_jll ───────── v1.1.1+5\n",
      "\u001b[32m\u001b[1m Installed\u001b[22m\u001b[39m PDMats ────────────── v0.10.1\n",
      "\u001b[32m\u001b[1m Installed\u001b[22m\u001b[39m Tables ────────────── v1.1.0\n",
      "\u001b[32m\u001b[1m Installed\u001b[22m\u001b[39m GR ────────────────── v0.52.0\n",
      "\u001b[32m\u001b[1m Installed\u001b[22m\u001b[39m SoftGlobalScope ───── v1.1.0\n",
      "\u001b[32m\u001b[1m Installed\u001b[22m\u001b[39m FillArrays ────────── v0.9.6\n",
      "\u001b[32m\u001b[1m Installed\u001b[22m\u001b[39m Zlib_jll ──────────── v1.2.11+16\n",
      "\u001b[32m\u001b[1m Installed\u001b[22m\u001b[39m PlotUtils ─────────── v1.0.7\n",
      "\u001b[32m\u001b[1m Installed\u001b[22m\u001b[39m GeometryBasics ────── v0.3.1\n",
      "\u001b[32m\u001b[1m Installed\u001b[22m\u001b[39m FreeType2_jll ─────── v2.10.1+4\n",
      "\u001b[32m\u001b[1m Installed\u001b[22m\u001b[39m ColorSchemes ──────── v3.10.1\n",
      "\u001b[32m\u001b[1m Installed\u001b[22m\u001b[39m UnPack ────────────── v1.0.2\n",
      "\u001b[32m\u001b[1m Installed\u001b[22m\u001b[39m Missings ──────────── v0.4.4\n",
      "\u001b[32m\u001b[1m Installed\u001b[22m\u001b[39m Grisu ─────────────── v1.0.0\n",
      "\u001b[32m\u001b[1m Installed\u001b[22m\u001b[39m DocStringExtensions ─ v0.8.3\n",
      "\u001b[32m\u001b[1m Installed\u001b[22m\u001b[39m QuadGK ────────────── v2.4.1\n",
      "\u001b[32m\u001b[1m Installed\u001b[22m\u001b[39m KernelDensity ─────── v0.6.0\n",
      "\u001b[32m\u001b[1m Installed\u001b[22m\u001b[39m FriBidi_jll ───────── v1.0.5+5\n",
      "\u001b[32m\u001b[1m Installed\u001b[22m\u001b[39m ArgCheck ──────────── v2.1.0\n",
      "\u001b[32m\u001b[1m Installed\u001b[22m\u001b[39m NearestNeighbors ──── v0.4.6\n",
      "\u001b[32m\u001b[1m Installed\u001b[22m\u001b[39m QueryOperators ────── v0.9.2\n",
      "\u001b[32m\u001b[1m Installed\u001b[22m\u001b[39m libfdk_aac_jll ────── v0.1.6+3\n",
      "\u001b[32m\u001b[1m Installed\u001b[22m\u001b[39m x264_jll ──────────── v2020.7.14+1\n",
      "\u001b[32m\u001b[1m Installed\u001b[22m\u001b[39m OffsetArrays ──────── v1.3.0\n",
      "\u001b[32m\u001b[1m Installed\u001b[22m\u001b[39m x265_jll ──────────── v3.0.0+2\n",
      "\u001b[32m\u001b[1m Installed\u001b[22m\u001b[39m FFTW ──────────────── v1.2.4\n",
      "\u001b[32m\u001b[1m Installed\u001b[22m\u001b[39m SentinelArrays ────── v1.2.16\n",
      "\u001b[32m\u001b[1m Installed\u001b[22m\u001b[39m RecipesPipeline ───── v0.1.13\n",
      "\u001b[32m\u001b[1m Installed\u001b[22m\u001b[39m FFMPEG_jll ────────── v4.3.1+2\n",
      "\u001b[32m\u001b[1m Installed\u001b[22m\u001b[39m Compat ────────────── v3.18.0\n",
      "\u001b[32m\u001b[1m Installed\u001b[22m\u001b[39m Opus_jll ──────────── v1.3.1+2\n",
      "\u001b[32m\u001b[1m Installed\u001b[22m\u001b[39m Contour ───────────── v0.5.5\n",
      "\u001b[32m\u001b[1m Installed\u001b[22m\u001b[39m Ogg_jll ───────────── v1.3.4+1\n",
      "\u001b[32m\u001b[1m Installed\u001b[22m\u001b[39m JSON ──────────────── v0.21.1\n",
      "\u001b[32m\u001b[1m Installed\u001b[22m\u001b[39m DataStructures ────── v0.17.20\n",
      "\u001b[32m\u001b[1m  Updating\u001b[22m\u001b[39m `~/.julia/environments/v1.3/Project.toml`\n",
      " \u001b[90m [336ed68f]\u001b[39m\u001b[93m ↑ CSV v0.7.3 ⇒ v0.7.7\u001b[39m\n",
      " \u001b[90m [a93c6f00]\u001b[39m\u001b[93m ↑ DataFrames v0.21.4 ⇒ v0.21.7\u001b[39m\n",
      " \u001b[90m [31c24e10]\u001b[39m\u001b[93m ↑ Distributions v0.23.4 ⇒ v0.23.12\u001b[39m\n",
      " \u001b[90m [7073ff75]\u001b[39m\u001b[93m ↑ IJulia v1.21.2 ⇒ v1.21.4\u001b[39m\n",
      " \u001b[90m [b964fa9f]\u001b[39m\u001b[93m ↑ LaTeXStrings v1.1.0 ⇒ v1.2.0\u001b[39m\n",
      " \u001b[90m [8314cec4]\u001b[39m\u001b[93m ↑ PGFPlotsX v1.2.8 ⇒ v1.2.10\u001b[39m\n",
      " \u001b[90m [1a8c2f83]\u001b[39m\u001b[93m ↑ Query v0.12.2 ⇒ v1.0.0\u001b[39m\n",
      " \u001b[90m [f3b207a7]\u001b[39m\u001b[93m ↑ StatsPlots v0.14.6 ⇒ v0.14.13\u001b[39m\n",
      "\u001b[32m\u001b[1m  Updating\u001b[22m\u001b[39m `~/.julia/environments/v1.3/Manifest.toml`\n",
      " \u001b[90m [79e6a3ab]\u001b[39m\u001b[93m ↑ Adapt v2.0.2 ⇒ v2.3.0\u001b[39m\n",
      " \u001b[90m [dce04be8]\u001b[39m\u001b[93m ↑ ArgCheck v2.0.0 ⇒ v2.1.0\u001b[39m\n",
      " \u001b[90m [4fba245c]\u001b[39m\u001b[91m - ArrayInterface v2.9.1\u001b[39m\n",
      " \u001b[90m [6e34b625]\u001b[39m\u001b[93m ↑ Bzip2_jll v1.0.6+2 ⇒ v1.0.6+4\u001b[39m\n",
      " \u001b[90m [336ed68f]\u001b[39m\u001b[93m ↑ CSV v0.7.3 ⇒ v0.7.7\u001b[39m\n",
      " \u001b[90m [324d7699]\u001b[39m\u001b[93m ↑ CategoricalArrays v0.8.1 ⇒ v0.8.3\u001b[39m\n",
      " \u001b[90m [35d6a980]\u001b[39m\u001b[93m ↑ ColorSchemes v3.9.0 ⇒ v3.10.1\u001b[39m\n",
      " \u001b[90m [3da002f7]\u001b[39m\u001b[93m ↑ ColorTypes v0.10.6 ⇒ v0.10.9\u001b[39m\n",
      " \u001b[90m [5ae59095]\u001b[39m\u001b[93m ↑ Colors v0.12.3 ⇒ v0.12.4\u001b[39m\n",
      " \u001b[90m [bbf7d656]\u001b[39m\u001b[91m - CommonSubexpressions v0.3.0\u001b[39m\n",
      " \u001b[90m [34da2185]\u001b[39m\u001b[93m ↑ Compat v3.13.0 ⇒ v3.18.0\u001b[39m\n",
      " \u001b[90m [d38c429a]\u001b[39m\u001b[93m ↑ Contour v0.5.4 ⇒ v0.5.5\u001b[39m\n",
      " \u001b[90m [a93c6f00]\u001b[39m\u001b[93m ↑ DataFrames v0.21.4 ⇒ v0.21.7\u001b[39m\n",
      " \u001b[90m [864edb3b]\u001b[39m\u001b[93m ↑ DataStructures v0.17.19 ⇒ v0.17.20\u001b[39m\n",
      " \u001b[90m [163ba53b]\u001b[39m\u001b[91m - DiffResults v1.0.2\u001b[39m\n",
      " \u001b[90m [b552c78f]\u001b[39m\u001b[91m - DiffRules v1.0.1\u001b[39m\n",
      " \u001b[90m [b4f34e82]\u001b[39m\u001b[93m ↑ Distances v0.8.2 ⇒ v0.9.1\u001b[39m\n",
      " \u001b[90m [31c24e10]\u001b[39m\u001b[93m ↑ Distributions v0.23.4 ⇒ v0.23.12\u001b[39m\n",
      " \u001b[90m [ffbed154]\u001b[39m\u001b[93m ↑ DocStringExtensions v0.8.2 ⇒ v0.8.3\u001b[39m\n",
      " \u001b[90m [5ae413db]\u001b[39m\u001b[92m + EarCut_jll v2.1.5+0\u001b[39m\n",
      " \u001b[90m [c87230d0]\u001b[39m\u001b[93m ↑ FFMPEG v0.3.0 ⇒ v0.4.0\u001b[39m\n",
      " \u001b[90m [b22a6f82]\u001b[39m\u001b[93m ↑ FFMPEG_jll v4.1.0+3 ⇒ v4.3.1+2\u001b[39m\n",
      " \u001b[90m [7a1cc6ca]\u001b[39m\u001b[93m ↑ FFTW v1.2.2 ⇒ v1.2.4\u001b[39m\n",
      " \u001b[90m [1a297f60]\u001b[39m\u001b[93m ↑ FillArrays v0.8.13 ⇒ v0.9.6\u001b[39m\n",
      " \u001b[90m [6a86dc24]\u001b[39m\u001b[91m - FiniteDiff v2.4.1\u001b[39m\n",
      " \u001b[90m [53c48c17]\u001b[39m\u001b[93m ↑ FixedPointNumbers v0.8.2 ⇒ v0.8.4\u001b[39m\n",
      " \u001b[90m [f6369f11]\u001b[39m\u001b[91m - ForwardDiff v0.10.12\u001b[39m\n",
      " \u001b[90m [d7e528f0]\u001b[39m\u001b[93m ↑ FreeType2_jll v2.10.1+2 ⇒ v2.10.1+4\u001b[39m\n",
      " \u001b[90m [559328eb]\u001b[39m\u001b[93m ↑ FriBidi_jll v1.0.5+3 ⇒ v1.0.5+5\u001b[39m\n",
      " \u001b[90m [28b8d3ca]\u001b[39m\u001b[93m ↑ GR v0.50.1 ⇒ v0.52.0\u001b[39m\n",
      " \u001b[90m [5c1252a2]\u001b[39m\u001b[93m ↑ GeometryBasics v0.2.15 ⇒ v0.3.1\u001b[39m\n",
      " \u001b[90m [42e2da0e]\u001b[39m\u001b[92m + Grisu v1.0.0\u001b[39m\n",
      " \u001b[90m [cd3eb016]\u001b[39m\u001b[93m ↑ HTTP v0.8.16 ⇒ v0.8.19\u001b[39m\n",
      " \u001b[90m [7073ff75]\u001b[39m\u001b[93m ↑ IJulia v1.21.2 ⇒ v1.21.4\u001b[39m\n",
      " \u001b[90m [682c06a0]\u001b[39m\u001b[93m ↑ JSON v0.21.0 ⇒ v0.21.1\u001b[39m\n",
      " \u001b[90m [5ab0869b]\u001b[39m\u001b[93m ↑ KernelDensity v0.5.1 ⇒ v0.6.0\u001b[39m\n",
      " \u001b[90m [c1c5ebd0]\u001b[39m\u001b[93m ↑ LAME_jll v3.100.0+1 ⇒ v3.100.0+2\u001b[39m\n",
      " \u001b[90m [b964fa9f]\u001b[39m\u001b[93m ↑ LaTeXStrings v1.1.0 ⇒ v1.2.0\u001b[39m\n",
      " \u001b[90m [dd192d2f]\u001b[39m\u001b[93m ↑ LibVPX_jll v1.8.1+1 ⇒ v1.9.0+0\u001b[39m\n",
      " \u001b[90m [d3d80556]\u001b[39m\u001b[91m - LineSearches v7.0.1\u001b[39m\n",
      " \u001b[90m [856f044c]\u001b[39m\u001b[93m ↑ MKL_jll v2020.1.216+0 ⇒ v2020.2.254+0\u001b[39m\n",
      " \u001b[90m [c8ffd9c3]\u001b[39m\u001b[93m ↑ MbedTLS_jll v2.16.6+1 ⇒ v2.16.8+0\u001b[39m\n",
      " \u001b[90m [e1d29d7a]\u001b[39m\u001b[93m ↑ Missings v0.4.3 ⇒ v0.4.4\u001b[39m\n",
      " \u001b[90m [d41bc354]\u001b[39m\u001b[91m - NLSolversBase v7.6.1\u001b[39m\n",
      " \u001b[90m [b8a86587]\u001b[39m\u001b[93m ↑ NearestNeighbors v0.4.4 ⇒ v0.4.6\u001b[39m\n",
      " \u001b[90m [6fe1bfb0]\u001b[39m\u001b[93m ↑ OffsetArrays v1.1.1 ⇒ v1.3.0\u001b[39m\n",
      " \u001b[90m [e7412a2a]\u001b[39m\u001b[93m ↑ Ogg_jll v1.3.4+0 ⇒ v1.3.4+1\u001b[39m\n",
      " \u001b[90m [4536629a]\u001b[39m\u001b[93m ↑ OpenBLAS_jll v0.3.9+5 ⇒ v0.3.10+0\u001b[39m\n",
      " \u001b[90m [458c3c95]\u001b[39m\u001b[93m ↑ OpenSSL_jll v1.1.1+4 ⇒ v1.1.1+5\u001b[39m\n",
      " \u001b[90m [429524aa]\u001b[39m\u001b[91m - Optim v0.22.0\u001b[39m\n",
      " \u001b[90m [91d4177d]\u001b[39m\u001b[93m ↑ Opus_jll v1.3.1+1 ⇒ v1.3.1+2\u001b[39m\n",
      " \u001b[90m [bac558e1]\u001b[39m\u001b[93m ↑ OrderedCollections v1.3.0 ⇒ v1.3.1\u001b[39m\n",
      " \u001b[90m [90014a1f]\u001b[39m\u001b[93m ↑ PDMats v0.9.12 ⇒ v0.10.1\u001b[39m\n",
      " \u001b[90m [8314cec4]\u001b[39m\u001b[93m ↑ PGFPlotsX v1.2.8 ⇒ v1.2.10\u001b[39m\n",
      " \u001b[90m [69de0a69]\u001b[39m\u001b[93m ↑ Parsers v1.0.7 ⇒ v1.0.10\u001b[39m\n",
      " \u001b[90m [995b91a9]\u001b[39m\u001b[93m ↑ PlotUtils v1.0.5 ⇒ v1.0.7\u001b[39m\n",
      " \u001b[90m [91a5bcdd]\u001b[39m\u001b[93m ↑ Plots v1.5.4 ⇒ v1.6.8\u001b[39m\n",
      " \u001b[90m [85a6dd25]\u001b[39m\u001b[91m - PositiveFactorizations v0.2.3\u001b[39m\n"
     ]
    },
    {
     "name": "stdout",
     "output_type": "stream",
     "text": [
      " \u001b[90m [1fd47b50]\u001b[39m\u001b[93m ↑ QuadGK v2.4.0 ⇒ v2.4.1\u001b[39m\n",
      " \u001b[90m [1a8c2f83]\u001b[39m\u001b[93m ↑ Query v0.12.2 ⇒ v1.0.0\u001b[39m\n",
      " \u001b[90m [2aef5ad7]\u001b[39m\u001b[93m ↑ QueryOperators v0.9.1 ⇒ v0.9.2\u001b[39m\n",
      " \u001b[90m [3cdcf5f2]\u001b[39m\u001b[93m ↑ RecipesBase v1.0.1 ⇒ v1.1.0\u001b[39m\n",
      " \u001b[90m [01d81517]\u001b[39m\u001b[93m ↑ RecipesPipeline v0.1.11 ⇒ v0.1.13\u001b[39m\n",
      " \u001b[90m [ae029012]\u001b[39m\u001b[93m ↑ Requires v1.0.1 ⇒ v1.1.0\u001b[39m\n",
      " \u001b[90m [91c51154]\u001b[39m\u001b[93m ↑ SentinelArrays v1.2.8 ⇒ v1.2.16\u001b[39m\n",
      " \u001b[90m [992d4aef]\u001b[39m\u001b[93m ↑ Showoff v0.3.1 ⇒ v0.3.2\u001b[39m\n",
      " \u001b[90m [b85f4697]\u001b[39m\u001b[93m ↑ SoftGlobalScope v1.0.10 ⇒ v1.1.0\u001b[39m\n",
      " \u001b[90m [2913bbd2]\u001b[39m\u001b[93m ↑ StatsBase v0.33.0 ⇒ v0.33.1\u001b[39m\n",
      " \u001b[90m [f3b207a7]\u001b[39m\u001b[93m ↑ StatsPlots v0.14.6 ⇒ v0.14.13\u001b[39m\n",
      " \u001b[90m [856f2bd8]\u001b[39m\u001b[92m + StructTypes v1.1.0\u001b[39m\n",
      " \u001b[90m [bd369af6]\u001b[39m\u001b[93m ↑ Tables v1.0.4 ⇒ v1.1.0\u001b[39m\n",
      " \u001b[90m [3a884ed6]\u001b[39m\u001b[93m ↑ UnPack v1.0.1 ⇒ v1.0.2\u001b[39m\n",
      " \u001b[90m [83775a58]\u001b[39m\u001b[93m ↑ Zlib_jll v1.2.11+14 ⇒ v1.2.11+16\u001b[39m\n",
      " \u001b[90m [0ac62f75]\u001b[39m\u001b[93m ↑ libass_jll v0.14.0+2 ⇒ v0.14.0+3\u001b[39m\n",
      " \u001b[90m [f638f0a6]\u001b[39m\u001b[93m ↑ libfdk_aac_jll v0.1.6+2 ⇒ v0.1.6+3\u001b[39m\n",
      " \u001b[90m [f27f6e37]\u001b[39m\u001b[93m ↑ libvorbis_jll v1.3.6+4 ⇒ v1.3.6+5\u001b[39m\n",
      " \u001b[90m [1270edf5]\u001b[39m\u001b[93m ↑ x264_jll v2019.5.25+2 ⇒ v2020.7.14+1\u001b[39m\n",
      " \u001b[90m [dfaa095f]\u001b[39m\u001b[93m ↑ x265_jll v3.0.0+1 ⇒ v3.0.0+2\u001b[39m\n",
      "\u001b[32m\u001b[1m  Building\u001b[22m\u001b[39m IJulia → `~/.julia/packages/IJulia/rWZ9e/deps/build.log`\n",
      "\u001b[32m\u001b[1m  Building\u001b[22m\u001b[39m GR ────→ `~/.julia/packages/GR/BwGt2/deps/build.log`\n",
      "\u001b[32m\u001b[1m  Building\u001b[22m\u001b[39m Plots ─→ `~/.julia/packages/Plots/hyS17/deps/build.log`\n",
      "\u001b[32m\u001b[1m  Building\u001b[22m\u001b[39m FFTW ──→ `~/.julia/packages/FFTW/DMUbN/deps/build.log`\n"
     ]
    }
   ],
   "source": [
    "] up"
   ]
  },
  {
   "cell_type": "markdown",
   "metadata": {},
   "source": [
    "Verificando o status dos pacotes, e se há algum problema, com o comando:"
   ]
  },
  {
   "cell_type": "code",
   "execution_count": 4,
   "metadata": {},
   "outputs": [
    {
     "name": "stdout",
     "output_type": "stream",
     "text": [
      "\u001b[32m\u001b[1m    Status\u001b[22m\u001b[39m `~/.julia/environments/v1.3/Project.toml`\n",
      " \u001b[90m [336ed68f]\u001b[39m\u001b[37m CSV v0.7.7\u001b[39m\n",
      " \u001b[90m [a93c6f00]\u001b[39m\u001b[37m DataFrames v0.21.7\u001b[39m\n",
      " \u001b[90m [31c24e10]\u001b[39m\u001b[37m Distributions v0.23.12\u001b[39m\n",
      " \u001b[90m [7073ff75]\u001b[39m\u001b[37m IJulia v1.21.4\u001b[39m\n",
      " \u001b[90m [b964fa9f]\u001b[39m\u001b[37m LaTeXStrings v1.2.0\u001b[39m\n",
      " \u001b[90m [8314cec4]\u001b[39m\u001b[37m PGFPlotsX v1.2.10\u001b[39m\n",
      " \u001b[90m [1a8c2f83]\u001b[39m\u001b[37m Query v1.0.0\u001b[39m\n",
      " \u001b[90m [f3b207a7]\u001b[39m\u001b[37m StatsPlots v0.14.13\u001b[39m\n",
      " \u001b[90m [10745b16]\u001b[39m\u001b[37m Statistics \u001b[39m\n"
     ]
    }
   ],
   "source": [
    "] st"
   ]
  },
  {
   "cell_type": "code",
   "execution_count": 59,
   "metadata": {},
   "outputs": [
    {
     "name": "stderr",
     "output_type": "stream",
     "text": [
      "┌ Info: Precompiling DataFrames [a93c6f00-e57d-5684-b7b6-d8193f3e46c0]\n",
      "└ @ Base loading.jl:1273\n",
      "┌ Info: Precompiling CSV [336ed68f-0bac-5ca0-87d4-7b16caf5d00b]\n",
      "└ @ Base loading.jl:1273\n"
     ]
    }
   ],
   "source": [
    "using DataFrames, CSV"
   ]
  },
  {
   "cell_type": "markdown",
   "metadata": {},
   "source": [
    "## Compilando última versão do arquivo"
   ]
  },
  {
   "cell_type": "code",
   "execution_count": 7,
   "metadata": {},
   "outputs": [
    {
     "name": "stdout",
     "output_type": "stream",
     "text": [
      "make: Nothing to be done for 'ep'.\n"
     ]
    }
   ],
   "source": [
    "; make"
   ]
  },
  {
   "cell_type": "markdown",
   "metadata": {},
   "source": [
    "Testando entradas para o EP"
   ]
  },
  {
   "cell_type": "code",
   "execution_count": 2,
   "metadata": {},
   "outputs": [
    {
     "name": "stdout",
     "output_type": "stream",
     "text": [
      "Entrada inválida!"
     ]
    }
   ],
   "source": [
    "; ./ep1"
   ]
  },
  {
   "cell_type": "markdown",
   "metadata": {},
   "source": [
    "# Experimentos"
   ]
  },
  {
   "cell_type": "markdown",
   "metadata": {},
   "source": [
    "## Variáveis"
   ]
  },
  {
   "cell_type": "code",
   "execution_count": 55,
   "metadata": {},
   "outputs": [],
   "source": [
    "repetitions = 30;\n",
    "pequeno = \"trace1\"; # 10\n",
    "medio = \"medio0\"; #100\n",
    "grande = \"grande0\"; #200"
   ]
  },
  {
   "cell_type": "markdown",
   "metadata": {},
   "source": [
    "## Funções"
   ]
  },
  {
   "cell_type": "code",
   "execution_count": 53,
   "metadata": {},
   "outputs": [
    {
     "data": {
      "text/plain": [
       "run_escalonador (generic function with 2 methods)"
      ]
     },
     "execution_count": 53,
     "metadata": {},
     "output_type": "execute_result"
    }
   ],
   "source": [
    "function run_escalonador(arquivo, escalonador, repetitions)\n",
    "    for r in 1:repetitions\n",
    "        println(\"repetição: \",r)\n",
    "        result = read(`time ./ep1 $escalonador $arquivo.txt data\\/$escalonador\\_$arquivo\\_saida\\_$r.txt `, String)\n",
    "    end\n",
    "    \n",
    "    return result\n",
    "end"
   ]
  },
  {
   "cell_type": "markdown",
   "metadata": {},
   "source": [
    "## Rodando experimentos com escalonador 1"
   ]
  },
  {
   "cell_type": "code",
   "execution_count": 54,
   "metadata": {},
   "outputs": [
    {
     "name": "stdout",
     "output_type": "stream",
     "text": [
      "repetição: 1\n",
      "repetição: 2\n"
     ]
    },
    {
     "name": "stderr",
     "output_type": "stream",
     "text": [
      "83.93user 0.01system 1:25.03elapsed 98%CPU (0avgtext+0avgdata 1864maxresident)k\n",
      "0inputs+0outputs (0major+93minor)pagefaults 0swaps\n"
     ]
    },
    {
     "name": "stdout",
     "output_type": "stream",
     "text": [
      "repetição: 3\n"
     ]
    },
    {
     "name": "stderr",
     "output_type": "stream",
     "text": [
      "84.00user 0.00system 1:25.02elapsed 98%CPU (0avgtext+0avgdata 1928maxresident)k\n",
      "0inputs+0outputs (0major+96minor)pagefaults 0swaps\n"
     ]
    },
    {
     "name": "stdout",
     "output_type": "stream",
     "text": [
      "repetição: 4\n"
     ]
    },
    {
     "name": "stderr",
     "output_type": "stream",
     "text": [
      "84.01user 0.00system 1:25.02elapsed 98%CPU (0avgtext+0avgdata 1904maxresident)k\n",
      "0inputs+0outputs (0major+94minor)pagefaults 0swaps\n"
     ]
    },
    {
     "name": "stdout",
     "output_type": "stream",
     "text": [
      "repetição: 5\n"
     ]
    },
    {
     "name": "stderr",
     "output_type": "stream",
     "text": [
      "83.95user 0.00system 1:25.03elapsed 98%CPU (0avgtext+0avgdata 1904maxresident)k\n",
      "0inputs+0outputs (0major+93minor)pagefaults 0swaps\n"
     ]
    },
    {
     "name": "stdout",
     "output_type": "stream",
     "text": [
      "repetição: 6\n"
     ]
    },
    {
     "name": "stderr",
     "output_type": "stream",
     "text": [
      "83.90user 0.00system 1:25.03elapsed 98%CPU (0avgtext+0avgdata 1960maxresident)k\n",
      "0inputs+0outputs (0major+95minor)pagefaults 0swaps\n"
     ]
    },
    {
     "name": "stdout",
     "output_type": "stream",
     "text": [
      "repetição: 7\n"
     ]
    },
    {
     "name": "stderr",
     "output_type": "stream",
     "text": [
      "84.00user 0.00system 1:25.01elapsed 98%CPU (0avgtext+0avgdata 1784maxresident)k\n",
      "0inputs+0outputs (0major+92minor)pagefaults 0swaps\n"
     ]
    },
    {
     "name": "stdout",
     "output_type": "stream",
     "text": [
      "repetição: 8\n"
     ]
    },
    {
     "name": "stderr",
     "output_type": "stream",
     "text": [
      "83.96user 0.01system 1:25.01elapsed 98%CPU (0avgtext+0avgdata 1920maxresident)k\n",
      "0inputs+0outputs (0major+95minor)pagefaults 0swaps\n"
     ]
    },
    {
     "name": "stdout",
     "output_type": "stream",
     "text": [
      "repetição: 9\n"
     ]
    },
    {
     "name": "stderr",
     "output_type": "stream",
     "text": [
      "83.80user 0.04system 1:25.02elapsed 98%CPU (0avgtext+0avgdata 1836maxresident)k\n",
      "0inputs+0outputs (0major+94minor)pagefaults 0swaps\n"
     ]
    },
    {
     "name": "stdout",
     "output_type": "stream",
     "text": [
      "repetição: 10\n"
     ]
    },
    {
     "name": "stderr",
     "output_type": "stream",
     "text": [
      "83.92user 0.01system 1:25.01elapsed 98%CPU (0avgtext+0avgdata 1864maxresident)k\n",
      "0inputs+0outputs (0major+93minor)pagefaults 0swaps\n"
     ]
    },
    {
     "name": "stdout",
     "output_type": "stream",
     "text": [
      "repetição: 11\n"
     ]
    },
    {
     "name": "stderr",
     "output_type": "stream",
     "text": [
      "83.98user 0.00system 1:25.01elapsed 98%CPU (0avgtext+0avgdata 1784maxresident)k\n",
      "0inputs+0outputs (0major+93minor)pagefaults 0swaps\n"
     ]
    },
    {
     "name": "stdout",
     "output_type": "stream",
     "text": [
      "repetição: 12\n"
     ]
    },
    {
     "name": "stderr",
     "output_type": "stream",
     "text": [
      "83.99user 0.00system 1:25.01elapsed 98%CPU (0avgtext+0avgdata 1892maxresident)k\n",
      "0inputs+0outputs (0major+93minor)pagefaults 0swaps\n"
     ]
    },
    {
     "name": "stdout",
     "output_type": "stream",
     "text": [
      "repetição: 13\n"
     ]
    },
    {
     "name": "stderr",
     "output_type": "stream",
     "text": [
      "84.00user 0.00system 1:25.01elapsed 98%CPU (0avgtext+0avgdata 1916maxresident)k\n",
      "0inputs+0outputs (0major+93minor)pagefaults 0swaps\n"
     ]
    },
    {
     "name": "stdout",
     "output_type": "stream",
     "text": [
      "repetição: 14\n"
     ]
    },
    {
     "name": "stderr",
     "output_type": "stream",
     "text": [
      "83.99user 0.00system 1:25.01elapsed 98%CPU (0avgtext+0avgdata 1904maxresident)k\n",
      "0inputs+0outputs (0major+93minor)pagefaults 0swaps\n"
     ]
    },
    {
     "name": "stdout",
     "output_type": "stream",
     "text": [
      "repetição: 15\n"
     ]
    },
    {
     "name": "stderr",
     "output_type": "stream",
     "text": [
      "83.98user 0.00system 1:25.01elapsed 98%CPU (0avgtext+0avgdata 1920maxresident)k\n",
      "0inputs+0outputs (0major+93minor)pagefaults 0swaps\n"
     ]
    },
    {
     "name": "stdout",
     "output_type": "stream",
     "text": [
      "repetição: 16\n"
     ]
    },
    {
     "name": "stderr",
     "output_type": "stream",
     "text": [
      "83.95user 0.05system 1:25.01elapsed 98%CPU (0avgtext+0avgdata 1788maxresident)k\n",
      "0inputs+0outputs (0major+93minor)pagefaults 0swaps\n"
     ]
    },
    {
     "name": "stdout",
     "output_type": "stream",
     "text": [
      "repetição: 17\n"
     ]
    },
    {
     "name": "stderr",
     "output_type": "stream",
     "text": [
      "84.00user 0.00system 1:25.02elapsed 98%CPU (0avgtext+0avgdata 1956maxresident)k\n",
      "0inputs+0outputs (0major+95minor)pagefaults 0swaps\n"
     ]
    },
    {
     "name": "stdout",
     "output_type": "stream",
     "text": [
      "repetição: 18\n"
     ]
    },
    {
     "name": "stderr",
     "output_type": "stream",
     "text": [
      "83.96user 0.04system 1:25.01elapsed 98%CPU (0avgtext+0avgdata 1888maxresident)k\n",
      "0inputs+0outputs (0major+95minor)pagefaults 0swaps\n"
     ]
    },
    {
     "name": "stdout",
     "output_type": "stream",
     "text": [
      "repetição: 19\n"
     ]
    },
    {
     "name": "stderr",
     "output_type": "stream",
     "text": [
      "83.94user 0.00system 1:25.02elapsed 98%CPU (0avgtext+0avgdata 1840maxresident)k\n",
      "0inputs+0outputs (0major+94minor)pagefaults 0swaps\n"
     ]
    },
    {
     "name": "stdout",
     "output_type": "stream",
     "text": [
      "repetição: 20\n"
     ]
    },
    {
     "name": "stderr",
     "output_type": "stream",
     "text": [
      "83.99user 0.01system 1:25.01elapsed 98%CPU (0avgtext+0avgdata 1868maxresident)k\n",
      "0inputs+0outputs (0major+94minor)pagefaults 0swaps\n"
     ]
    },
    {
     "name": "stdout",
     "output_type": "stream",
     "text": [
      "repetição: 21\n"
     ]
    },
    {
     "name": "stderr",
     "output_type": "stream",
     "text": [
      "83.98user 0.01system 1:25.01elapsed 98%CPU (0avgtext+0avgdata 1964maxresident)k\n",
      "0inputs+0outputs (0major+94minor)pagefaults 0swaps\n"
     ]
    },
    {
     "name": "stdout",
     "output_type": "stream",
     "text": [
      "repetição: 22\n"
     ]
    },
    {
     "name": "stderr",
     "output_type": "stream",
     "text": [
      "83.85user 0.03system 1:25.01elapsed 98%CPU (0avgtext+0avgdata 1888maxresident)k\n",
      "0inputs+0outputs (0major+93minor)pagefaults 0swaps\n"
     ]
    },
    {
     "name": "stdout",
     "output_type": "stream",
     "text": [
      "repetição: 23\n"
     ]
    },
    {
     "name": "stderr",
     "output_type": "stream",
     "text": [
      "84.01user 0.00system 1:25.01elapsed 98%CPU (0avgtext+0avgdata 1984maxresident)k\n",
      "0inputs+0outputs (0major+94minor)pagefaults 0swaps\n"
     ]
    },
    {
     "name": "stdout",
     "output_type": "stream",
     "text": [
      "repetição: 24\n"
     ]
    },
    {
     "name": "stderr",
     "output_type": "stream",
     "text": [
      "83.90user 0.02system 1:25.02elapsed 98%CPU (0avgtext+0avgdata 1920maxresident)k\n",
      "0inputs+0outputs (0major+93minor)pagefaults 0swaps\n"
     ]
    },
    {
     "name": "stdout",
     "output_type": "stream",
     "text": [
      "repetição: 25\n"
     ]
    },
    {
     "name": "stderr",
     "output_type": "stream",
     "text": [
      "83.97user 0.02system 1:25.01elapsed 98%CPU (0avgtext+0avgdata 1888maxresident)k\n",
      "0inputs+0outputs (0major+93minor)pagefaults 0swaps\n"
     ]
    },
    {
     "name": "stdout",
     "output_type": "stream",
     "text": [
      "repetição: 26\n"
     ]
    },
    {
     "name": "stderr",
     "output_type": "stream",
     "text": [
      "84.01user 0.00system 1:25.01elapsed 98%CPU (0avgtext+0avgdata 1868maxresident)k\n",
      "0inputs+0outputs (0major+93minor)pagefaults 0swaps\n"
     ]
    },
    {
     "name": "stdout",
     "output_type": "stream",
     "text": [
      "repetição: 27\n"
     ]
    },
    {
     "name": "stderr",
     "output_type": "stream",
     "text": [
      "84.00user 0.00system 1:25.01elapsed 98%CPU (0avgtext+0avgdata 1908maxresident)k\n",
      "0inputs+0outputs (0major+93minor)pagefaults 0swaps\n"
     ]
    },
    {
     "name": "stdout",
     "output_type": "stream",
     "text": [
      "repetição: 28\n"
     ]
    },
    {
     "name": "stderr",
     "output_type": "stream",
     "text": [
      "84.01user 0.00system 1:25.01elapsed 98%CPU (0avgtext+0avgdata 1840maxresident)k\n",
      "0inputs+0outputs (0major+93minor)pagefaults 0swaps\n"
     ]
    },
    {
     "name": "stdout",
     "output_type": "stream",
     "text": [
      "repetição: 29\n"
     ]
    },
    {
     "name": "stderr",
     "output_type": "stream",
     "text": [
      "83.99user 0.00system 1:25.01elapsed 98%CPU (0avgtext+0avgdata 1916maxresident)k\n",
      "0inputs+0outputs (0major+93minor)pagefaults 0swaps\n"
     ]
    },
    {
     "name": "stdout",
     "output_type": "stream",
     "text": [
      "repetição: 30\n"
     ]
    },
    {
     "name": "stderr",
     "output_type": "stream",
     "text": [
      "83.85user 0.08system 1:25.01elapsed 98%CPU (0avgtext+0avgdata 1868maxresident)k\n",
      "0inputs+0outputs (0major+93minor)pagefaults 0swaps\n",
      "84.01user 0.00system 1:25.04elapsed 98%CPU (0avgtext+0avgdata 1956maxresident)k\n",
      "0inputs+0outputs (0major+95minor)pagefaults 0swaps\n"
     ]
    },
    {
     "ename": "UndefVarError",
     "evalue": "UndefVarError: result not defined",
     "output_type": "error",
     "traceback": [
      "UndefVarError: result not defined",
      "",
      "Stacktrace:",
      " [1] run_escalonador(::String, ::Int64, ::Int64) at ./In[53]:7",
      " [2] top-level scope at In[54]:1"
     ]
    }
   ],
   "source": [
    "run_escalonador(pequeno, 1, repetitions)"
   ]
  },
  {
   "cell_type": "code",
   "execution_count": 56,
   "metadata": {},
   "outputs": [
    {
     "name": "stdout",
     "output_type": "stream",
     "text": [
      "repetição: 1\n",
      "repetição: 2\n"
     ]
    },
    {
     "name": "stderr",
     "output_type": "stream",
     "text": [
      "165.99user 0.02system 2:47.02elapsed 99%CPU (0avgtext+0avgdata 2080maxresident)k\n",
      "0inputs+0outputs (0major+117minor)pagefaults 0swaps\n"
     ]
    },
    {
     "name": "stdout",
     "output_type": "stream",
     "text": [
      "repetição: 3\n"
     ]
    },
    {
     "name": "stderr",
     "output_type": "stream",
     "text": [
      "166.01user 0.00system 2:47.02elapsed 99%CPU (0avgtext+0avgdata 1984maxresident)k\n",
      "0inputs+0outputs (0major+116minor)pagefaults 0swaps\n"
     ]
    },
    {
     "name": "stdout",
     "output_type": "stream",
     "text": [
      "repetição: 4\n"
     ]
    },
    {
     "name": "stderr",
     "output_type": "stream",
     "text": [
      "165.82user 0.19system 2:47.02elapsed 99%CPU (0avgtext+0avgdata 2080maxresident)k\n",
      "0inputs+0outputs (0major+117minor)pagefaults 0swaps\n"
     ]
    },
    {
     "name": "stdout",
     "output_type": "stream",
     "text": [
      "repetição: 5\n"
     ]
    },
    {
     "name": "stderr",
     "output_type": "stream",
     "text": [
      "165.94user 0.07system 2:47.02elapsed 99%CPU (0avgtext+0avgdata 1960maxresident)k\n",
      "0inputs+0outputs (0major+117minor)pagefaults 0swaps\n"
     ]
    },
    {
     "name": "stdout",
     "output_type": "stream",
     "text": [
      "repetição: 6\n"
     ]
    },
    {
     "name": "stderr",
     "output_type": "stream",
     "text": [
      "165.93user 0.07system 2:47.02elapsed 99%CPU (0avgtext+0avgdata 2028maxresident)k\n",
      "0inputs+0outputs (0major+119minor)pagefaults 0swaps\n"
     ]
    },
    {
     "name": "stdout",
     "output_type": "stream",
     "text": [
      "repetição: 7\n"
     ]
    },
    {
     "name": "stderr",
     "output_type": "stream",
     "text": [
      "165.99user 0.01system 2:47.02elapsed 99%CPU (0avgtext+0avgdata 2000maxresident)k\n",
      "0inputs+0outputs (0major+116minor)pagefaults 0swaps\n"
     ]
    },
    {
     "name": "stdout",
     "output_type": "stream",
     "text": [
      "repetição: 8\n"
     ]
    },
    {
     "name": "stderr",
     "output_type": "stream",
     "text": [
      "165.83user 0.17system 2:47.02elapsed 99%CPU (0avgtext+0avgdata 2028maxresident)k\n",
      "0inputs+0outputs (0major+119minor)pagefaults 0swaps\n"
     ]
    },
    {
     "name": "stdout",
     "output_type": "stream",
     "text": [
      "repetição: 9\n"
     ]
    },
    {
     "name": "stderr",
     "output_type": "stream",
     "text": [
      "166.01user 0.00system 2:47.02elapsed 99%CPU (0avgtext+0avgdata 1992maxresident)k\n",
      "0inputs+0outputs (0major+116minor)pagefaults 0swaps\n"
     ]
    },
    {
     "name": "stdout",
     "output_type": "stream",
     "text": [
      "repetição: 10\n"
     ]
    },
    {
     "name": "stderr",
     "output_type": "stream",
     "text": [
      "165.99user 0.00system 2:47.02elapsed 99%CPU (0avgtext+0avgdata 1880maxresident)k\n",
      "0inputs+0outputs (0major+115minor)pagefaults 0swaps\n"
     ]
    },
    {
     "name": "stdout",
     "output_type": "stream",
     "text": [
      "repetição: 11\n"
     ]
    },
    {
     "name": "stderr",
     "output_type": "stream",
     "text": [
      "165.97user 0.04system 2:47.02elapsed 99%CPU (0avgtext+0avgdata 1984maxresident)k\n",
      "0inputs+0outputs (0major+116minor)pagefaults 0swaps\n"
     ]
    },
    {
     "name": "stdout",
     "output_type": "stream",
     "text": [
      "repetição: 12\n"
     ]
    },
    {
     "name": "stderr",
     "output_type": "stream",
     "text": [
      "165.89user 0.05system 2:47.03elapsed 99%CPU (0avgtext+0avgdata 2048maxresident)k\n",
      "0inputs+0outputs (0major+117minor)pagefaults 0swaps\n"
     ]
    },
    {
     "name": "stdout",
     "output_type": "stream",
     "text": [
      "repetição: 13\n"
     ]
    },
    {
     "name": "stderr",
     "output_type": "stream",
     "text": [
      "166.01user 0.00system 2:47.02elapsed 99%CPU (0avgtext+0avgdata 2080maxresident)k\n",
      "0inputs+0outputs (0major+117minor)pagefaults 0swaps\n"
     ]
    },
    {
     "name": "stdout",
     "output_type": "stream",
     "text": [
      "repetição: 14\n"
     ]
    },
    {
     "name": "stderr",
     "output_type": "stream",
     "text": [
      "166.02user 0.01system 2:47.04elapsed 99%CPU (0avgtext+0avgdata 2028maxresident)k\n",
      "0inputs+0outputs (0major+119minor)pagefaults 0swaps\n"
     ]
    },
    {
     "name": "stdout",
     "output_type": "stream",
     "text": [
      "repetição: 15\n"
     ]
    },
    {
     "name": "stderr",
     "output_type": "stream",
     "text": [
      "165.73user 0.28system 2:47.02elapsed 99%CPU (0avgtext+0avgdata 2028maxresident)k\n",
      "0inputs+0outputs (0major+121minor)pagefaults 0swaps\n"
     ]
    },
    {
     "name": "stdout",
     "output_type": "stream",
     "text": [
      "repetição: 16\n"
     ]
    },
    {
     "name": "stderr",
     "output_type": "stream",
     "text": [
      "165.98user 0.01system 2:47.02elapsed 99%CPU (0avgtext+0avgdata 2052maxresident)k\n",
      "0inputs+0outputs (0major+123minor)pagefaults 0swaps\n"
     ]
    },
    {
     "name": "stdout",
     "output_type": "stream",
     "text": [
      "repetição: 17\n"
     ]
    },
    {
     "name": "stderr",
     "output_type": "stream",
     "text": [
      "165.98user 0.03system 2:47.02elapsed 99%CPU (0avgtext+0avgdata 2020maxresident)k\n",
      "0inputs+0outputs (0major+119minor)pagefaults 0swaps\n"
     ]
    },
    {
     "name": "stdout",
     "output_type": "stream",
     "text": [
      "repetição: 18\n"
     ]
    },
    {
     "name": "stderr",
     "output_type": "stream",
     "text": [
      "166.03user 0.00system 2:47.05elapsed 99%CPU (0avgtext+0avgdata 2020maxresident)k\n",
      "0inputs+0outputs (0major+118minor)pagefaults 0swaps\n"
     ]
    },
    {
     "name": "stdout",
     "output_type": "stream",
     "text": [
      "repetição: 19\n"
     ]
    },
    {
     "name": "stderr",
     "output_type": "stream",
     "text": [
      "165.94user 0.07system 2:47.13elapsed 99%CPU (0avgtext+0avgdata 2012maxresident)k\n",
      "0inputs+0outputs (0major+116minor)pagefaults 0swaps\n"
     ]
    },
    {
     "name": "stdout",
     "output_type": "stream",
     "text": [
      "repetição: 20\n"
     ]
    },
    {
     "name": "stderr",
     "output_type": "stream",
     "text": [
      "166.00user 0.01system 2:47.02elapsed 99%CPU (0avgtext+0avgdata 2080maxresident)k\n",
      "0inputs+0outputs (0major+117minor)pagefaults 0swaps\n"
     ]
    },
    {
     "name": "stdout",
     "output_type": "stream",
     "text": [
      "repetição: 21\n"
     ]
    },
    {
     "name": "stderr",
     "output_type": "stream",
     "text": [
      "165.92user 0.08system 2:47.02elapsed 99%CPU (0avgtext+0avgdata 1932maxresident)k\n",
      "0inputs+0outputs (0major+116minor)pagefaults 0swaps\n"
     ]
    },
    {
     "name": "stdout",
     "output_type": "stream",
     "text": [
      "repetição: 22\n"
     ]
    },
    {
     "name": "stderr",
     "output_type": "stream",
     "text": [
      "166.02user 0.00system 2:47.02elapsed 99%CPU (0avgtext+0avgdata 1908maxresident)k\n",
      "0inputs+0outputs (0major+115minor)pagefaults 0swaps\n"
     ]
    },
    {
     "name": "stdout",
     "output_type": "stream",
     "text": [
      "repetição: 23\n"
     ]
    },
    {
     "name": "stderr",
     "output_type": "stream",
     "text": [
      "165.78user 0.13system 2:47.02elapsed 99%CPU (0avgtext+0avgdata 2024maxresident)k\n",
      "0inputs+0outputs (0major+119minor)pagefaults 0swaps\n"
     ]
    },
    {
     "name": "stdout",
     "output_type": "stream",
     "text": [
      "repetição: 24\n"
     ]
    },
    {
     "name": "stderr",
     "output_type": "stream",
     "text": [
      "165.93user 0.01system 2:47.03elapsed 99%CPU (0avgtext+0avgdata 1992maxresident)k\n",
      "0inputs+0outputs (0major+116minor)pagefaults 0swaps\n"
     ]
    },
    {
     "name": "stdout",
     "output_type": "stream",
     "text": [
      "repetição: 25\n"
     ]
    },
    {
     "name": "stderr",
     "output_type": "stream",
     "text": [
      "166.02user 0.00system 2:47.03elapsed 99%CPU (0avgtext+0avgdata 1960maxresident)k\n",
      "0inputs+0outputs (0major+116minor)pagefaults 0swaps\n"
     ]
    },
    {
     "name": "stdout",
     "output_type": "stream",
     "text": [
      "repetição: 26\n"
     ]
    },
    {
     "name": "stderr",
     "output_type": "stream",
     "text": [
      "165.97user 0.03system 2:47.03elapsed 99%CPU (0avgtext+0avgdata 1880maxresident)k\n",
      "0inputs+0outputs (0major+115minor)pagefaults 0swaps\n"
     ]
    },
    {
     "name": "stdout",
     "output_type": "stream",
     "text": [
      "repetição: 27\n"
     ]
    },
    {
     "name": "stderr",
     "output_type": "stream",
     "text": [
      "165.99user 0.05system 2:47.05elapsed 99%CPU (0avgtext+0avgdata 2008maxresident)k\n",
      "0inputs+0outputs (0major+116minor)pagefaults 0swaps\n"
     ]
    },
    {
     "name": "stdout",
     "output_type": "stream",
     "text": [
      "repetição: 28\n"
     ]
    },
    {
     "name": "stderr",
     "output_type": "stream",
     "text": [
      "166.04user 0.00system 2:47.09elapsed 99%CPU (0avgtext+0avgdata 2080maxresident)k\n",
      "0inputs+0outputs (0major+117minor)pagefaults 0swaps\n"
     ]
    },
    {
     "name": "stdout",
     "output_type": "stream",
     "text": [
      "repetição: 29\n"
     ]
    },
    {
     "name": "stderr",
     "output_type": "stream",
     "text": [
      "165.91user 0.10system 2:47.05elapsed 99%CPU (0avgtext+0avgdata 1992maxresident)k\n",
      "0inputs+0outputs (0major+116minor)pagefaults 0swaps\n"
     ]
    },
    {
     "name": "stdout",
     "output_type": "stream",
     "text": [
      "repetição: 30\n"
     ]
    },
    {
     "name": "stderr",
     "output_type": "stream",
     "text": [
      "165.96user 0.03system 2:47.04elapsed 99%CPU (0avgtext+0avgdata 2048maxresident)k\n",
      "0inputs+0outputs (0major+117minor)pagefaults 0swaps\n",
      "165.89user 0.11system 2:47.03elapsed 99%CPU (0avgtext+0avgdata 1908maxresident)k\n",
      "0inputs+0outputs (0major+115minor)pagefaults 0swaps\n"
     ]
    },
    {
     "ename": "UndefVarError",
     "evalue": "UndefVarError: result not defined",
     "output_type": "error",
     "traceback": [
      "UndefVarError: result not defined",
      "",
      "Stacktrace:",
      " [1] run_escalonador(::String, ::Int64, ::Int64) at ./In[53]:7",
      " [2] top-level scope at In[56]:1"
     ]
    }
   ],
   "source": [
    "run_escalonador(medio, 1, repetitions)"
   ]
  },
  {
   "cell_type": "code",
   "execution_count": 57,
   "metadata": {},
   "outputs": [
    {
     "name": "stdout",
     "output_type": "stream",
     "text": [
      "repetição: 1\n",
      "repetição: 2\n"
     ]
    },
    {
     "name": "stderr",
     "output_type": "stream",
     "text": [
      "222.98user 0.01system 3:44.03elapsed 99%CPU (0avgtext+0avgdata 2068maxresident)k\n",
      "0inputs+0outputs (0major+137minor)pagefaults 0swaps\n"
     ]
    },
    {
     "name": "stdout",
     "output_type": "stream",
     "text": [
      "repetição: 3\n"
     ]
    },
    {
     "name": "stderr",
     "output_type": "stream",
     "text": [
      "222.70user 0.15system 3:44.03elapsed 99%CPU (0avgtext+0avgdata 2092maxresident)k\n",
      "0inputs+0outputs (0major+142minor)pagefaults 0swaps\n"
     ]
    },
    {
     "name": "stdout",
     "output_type": "stream",
     "text": [
      "repetição: 4\n"
     ]
    },
    {
     "name": "stderr",
     "output_type": "stream",
     "text": [
      "222.90user 0.08system 3:44.05elapsed 99%CPU (0avgtext+0avgdata 1960maxresident)k\n",
      "0inputs+0outputs (0major+135minor)pagefaults 0swaps\n"
     ]
    },
    {
     "name": "stdout",
     "output_type": "stream",
     "text": [
      "repetição: 5\n"
     ]
    },
    {
     "name": "stderr",
     "output_type": "stream",
     "text": [
      "222.82user 0.20system 3:44.03elapsed 99%CPU (0avgtext+0avgdata 2080maxresident)k\n",
      "0inputs+0outputs (0major+136minor)pagefaults 0swaps\n"
     ]
    },
    {
     "name": "stdout",
     "output_type": "stream",
     "text": [
      "repetição: 6\n"
     ]
    },
    {
     "name": "stderr",
     "output_type": "stream",
     "text": [
      "222.95user 0.02system 3:44.04elapsed 99%CPU (0avgtext+0avgdata 2096maxresident)k\n",
      "0inputs+0outputs (0major+138minor)pagefaults 0swaps\n",
      "Command terminated by signal 2\n",
      "9.11user 0.00system 0:10.11elapsed 90%CPU (0avgtext+0avgdata 1760maxresident)k\n",
      "0inputs+0outputs (0major+76minor)pagefaults 0swaps\n"
     ]
    },
    {
     "ename": "ProcessFailedException",
     "evalue": "failed process: Process(`time ./ep1 1 grande0.txt data/1_grande0_saida_6.txt`, ProcessExited(130)) [130]\n",
     "output_type": "error",
     "traceback": [
      "failed process: Process(`time ./ep1 1 grande0.txt data/1_grande0_saida_6.txt`, ProcessExited(130)) [130]\n",
      "",
      "Stacktrace:",
      " [1] pipeline_error at ./process.jl:525 [inlined]",
      " [2] read(::Cmd) at ./process.jl:412",
      " [3] read(::Cmd, ::Type{String}) at ./process.jl:421",
      " [4] run_escalonador(::String, ::Int64, ::Int64) at ./In[53]:4",
      " [5] top-level scope at In[57]:1"
     ]
    }
   ],
   "source": [
    "run_escalonador(grande, 1, repetitions)"
   ]
  },
  {
   "cell_type": "markdown",
   "metadata": {},
   "source": [
    "## Rodando experimentos com escalonador 1"
   ]
  },
  {
   "cell_type": "code",
   "execution_count": null,
   "metadata": {},
   "outputs": [],
   "source": [
    "run_escalonador(pequeno, 2, repetitions)"
   ]
  },
  {
   "cell_type": "code",
   "execution_count": null,
   "metadata": {},
   "outputs": [],
   "source": [
    "run_escalonador(medio, 2, repetitions)"
   ]
  },
  {
   "cell_type": "code",
   "execution_count": null,
   "metadata": {},
   "outputs": [],
   "source": [
    "run_escalonador(grande, 2, repetitions)"
   ]
  },
  {
   "cell_type": "markdown",
   "metadata": {},
   "source": [
    "# Condensando resultados"
   ]
  },
  {
   "cell_type": "code",
   "execution_count": 60,
   "metadata": {},
   "outputs": [
    {
     "data": {
      "text/html": [
       "<table class=\"data-frame\"><thead><tr><th></th><th>deadline</th><th>contextos</th><th>run</th><th>entrada</th></tr><tr><th></th><th>Int64</th><th>Int64</th><th>Int64</th><th>String</th></tr></thead><tbody><p>0 rows × 4 columns</p></tbody></table>"
      ],
      "text/latex": [
       "\\begin{tabular}{r|cccc}\n",
       "\t& deadline & contextos & run & entrada\\\\\n",
       "\t\\hline\n",
       "\t& Int64 & Int64 & Int64 & String\\\\\n",
       "\t\\hline\n",
       "\\end{tabular}\n"
      ],
      "text/plain": [
       "0×4 DataFrame\n"
      ]
     },
     "execution_count": 60,
     "metadata": {},
     "output_type": "execute_result"
    }
   ],
   "source": [
    "results = DataFrame(\n",
    "        deadline = Int[],\n",
    "        contextos = Int[],\n",
    "        run = Int[],\n",
    "        entrada = String[]) "
   ]
  },
  {
   "cell_type": "markdown",
   "metadata": {},
   "source": [
    "## Primeiro escalonador - FCFS"
   ]
  },
  {
   "cell_type": "code",
   "execution_count": 62,
   "metadata": {},
   "outputs": [
    {
     "data": {
      "text/plain": [
       "1"
      ]
     },
     "execution_count": 62,
     "metadata": {},
     "output_type": "execute_result"
    }
   ],
   "source": [
    "escalonador = 1"
   ]
  },
  {
   "cell_type": "code",
   "execution_count": 67,
   "metadata": {},
   "outputs": [
    {
     "data": {
      "text/html": [
       "<table class=\"data-frame\"><thead><tr><th></th><th>Column1</th><th>Column2</th><th>Column3</th><th>Column4</th></tr><tr><th></th><th>String</th><th>Int64</th><th>Int64</th><th>Int64</th></tr></thead><tbody><p>10 rows × 4 columns</p><tr><th>1</th><td>p0</td><td>1</td><td>10</td><td>21</td></tr><tr><th>2</th><td>p1</td><td>1</td><td>7</td><td>8</td></tr><tr><th>3</th><td>p2</td><td>1</td><td>3</td><td>11</td></tr><tr><th>4</th><td>p3</td><td>4</td><td>9</td><td>33</td></tr><tr><th>5</th><td>p4</td><td>4</td><td>1</td><td>31</td></tr><tr><th>6</th><td>p5</td><td>5</td><td>20</td><td>52</td></tr><tr><th>7</th><td>p6</td><td>7</td><td>13</td><td>60</td></tr><tr><th>8</th><td>p7</td><td>10</td><td>11</td><td>75</td></tr><tr><th>9</th><td>p8</td><td>15</td><td>6</td><td>100</td></tr><tr><th>10</th><td>p9</td><td>16</td><td>4</td><td>73</td></tr></tbody></table>"
      ],
      "text/latex": [
       "\\begin{tabular}{r|cccc}\n",
       "\t& Column1 & Column2 & Column3 & Column4\\\\\n",
       "\t\\hline\n",
       "\t& String & Int64 & Int64 & Int64\\\\\n",
       "\t\\hline\n",
       "\t1 & p0 & 1 & 10 & 21 \\\\\n",
       "\t2 & p1 & 1 & 7 & 8 \\\\\n",
       "\t3 & p2 & 1 & 3 & 11 \\\\\n",
       "\t4 & p3 & 4 & 9 & 33 \\\\\n",
       "\t5 & p4 & 4 & 1 & 31 \\\\\n",
       "\t6 & p5 & 5 & 20 & 52 \\\\\n",
       "\t7 & p6 & 7 & 13 & 60 \\\\\n",
       "\t8 & p7 & 10 & 11 & 75 \\\\\n",
       "\t9 & p8 & 15 & 6 & 100 \\\\\n",
       "\t10 & p9 & 16 & 4 & 73 \\\\\n",
       "\\end{tabular}\n"
      ],
      "text/plain": [
       "10×4 DataFrame\n",
       "│ Row │ Column1 │ Column2 │ Column3 │ Column4 │\n",
       "│     │ \u001b[90mString\u001b[39m  │ \u001b[90mInt64\u001b[39m   │ \u001b[90mInt64\u001b[39m   │ \u001b[90mInt64\u001b[39m   │\n",
       "├─────┼─────────┼─────────┼─────────┼─────────┤\n",
       "│ 1   │ p0      │ 1       │ 10      │ 21      │\n",
       "│ 2   │ p1      │ 1       │ 7       │ 8       │\n",
       "│ 3   │ p2      │ 1       │ 3       │ 11      │\n",
       "│ 4   │ p3      │ 4       │ 9       │ 33      │\n",
       "│ 5   │ p4      │ 4       │ 1       │ 31      │\n",
       "│ 6   │ p5      │ 5       │ 20      │ 52      │\n",
       "│ 7   │ p6      │ 7       │ 13      │ 60      │\n",
       "│ 8   │ p7      │ 10      │ 11      │ 75      │\n",
       "│ 9   │ p8      │ 15      │ 6       │ 100     │\n",
       "│ 10  │ p9      │ 16      │ 4       │ 73      │"
      ]
     },
     "execution_count": 67,
     "metadata": {},
     "output_type": "execute_result"
    }
   ],
   "source": [
    "df2 = DataFrame!(CSV.File(\"trace1.txt\", header = false))"
   ]
  },
  {
   "cell_type": "code",
   "execution_count": 61,
   "metadata": {},
   "outputs": [
    {
     "name": "stdout",
     "output_type": "stream",
     "text": [
      "repetição: 1\n"
     ]
    },
    {
     "name": "stderr",
     "output_type": "stream",
     "text": [
      "Command terminated by signal 2\n",
      "0.00user 0.00system 16:44.03elapsed 0%CPU (0avgtext+0avgdata 1824maxresident)k\n",
      "0inputs+0outputs (0major+98minor)pagefaults 0swaps\n"
     ]
    },
    {
     "ename": "ProcessFailedException",
     "evalue": "failed process: Process(`time ./ep1 2 grande0.txt data/2_grande0_saida_1.txt`, ProcessExited(130)) [130]\n",
     "output_type": "error",
     "traceback": [
      "failed process: Process(`time ./ep1 2 grande0.txt data/2_grande0_saida_1.txt`, ProcessExited(130)) [130]\n",
      "",
      "Stacktrace:",
      " [1] pipeline_error at ./process.jl:525 [inlined]",
      " [2] read(::Cmd) at ./process.jl:412",
      " [3] read(::Cmd, ::Type{String}) at ./process.jl:421",
      " [4] run_escalonador(::String, ::Int64, ::Int64) at ./In[53]:4",
      " [5] top-level scope at In[61]:1"
     ]
    }
   ],
   "source": [
    "run_escalonador(grande, 2, 1)"
   ]
  },
  {
   "cell_type": "code",
   "execution_count": 69,
   "metadata": {},
   "outputs": [
    {
     "name": "stdout",
     "output_type": "stream",
     "text": [
      "data/1_trace1_saida_1.txt\n"
     ]
    },
    {
     "ename": "MethodError",
     "evalue": "MethodError: no method matching insertcols!(::DataFrame, ::Int64, ::Pair{Symbol,Array{Int64,1}}, ::Int64)\nClosest candidates are:\n  insertcols!(::DataFrame, ::Int64, !Matched::Pair{Symbol,#s28} where #s28...; makeunique, copycols) at /home/lune/.julia/packages/DataFrames/cdZCk/src/dataframe/dataframe.jl:721\n  insertcols!(::DataFrame, ::Int64; makeunique, name_col...) at /home/lune/.julia/packages/DataFrames/cdZCk/src/deprecated.jl:277\n  insertcols!(::DataFrame, ::Int64, !Matched::Pair{#s33,#s32} where #s32 where #s33<:AbstractString...; makeunique, copycols) at /home/lune/.julia/packages/DataFrames/cdZCk/src/dataframe/dataframe.jl:809\n  ...",
     "output_type": "error",
     "traceback": [
      "MethodError: no method matching insertcols!(::DataFrame, ::Int64, ::Pair{Symbol,Array{Int64,1}}, ::Int64)\nClosest candidates are:\n  insertcols!(::DataFrame, ::Int64, !Matched::Pair{Symbol,#s28} where #s28...; makeunique, copycols) at /home/lune/.julia/packages/DataFrames/cdZCk/src/dataframe/dataframe.jl:721\n  insertcols!(::DataFrame, ::Int64; makeunique, name_col...) at /home/lune/.julia/packages/DataFrames/cdZCk/src/deprecated.jl:277\n  insertcols!(::DataFrame, ::Int64, !Matched::Pair{#s33,#s32} where #s32 where #s33<:AbstractString...; makeunique, copycols) at /home/lune/.julia/packages/DataFrames/cdZCk/src/dataframe/dataframe.jl:809\n  ...",
      "",
      "Stacktrace:",
      " [1] top-level scope at ./In[69]:5"
     ]
    }
   ],
   "source": [
    "for r in 1:repetitions\n",
    "    endereco = \"data/\" * \"$escalonador\" * \"_\" * \"$pequeno\" * \"_saida_$r.txt\"\n",
    "    df1 = DataFrame!(CSV.File(endereco, header = false))\n",
    "    println(endereco)\n",
    "    insertcols!(df1, 4, :dl =>df2.Column4, 0)\n",
    "    sum = 0\n",
    "    for row in eachrow(df1)\n",
    "        sum += Int(row.Column2 > row.dl)\n",
    "    end\n",
    "    append!(results, DataFrame(deadline = sum, run = r, contextos = 0, entrada = pequeno));\n",
    "end"
   ]
  },
  {
   "cell_type": "code",
   "execution_count": null,
   "metadata": {},
   "outputs": [],
   "source": [
    "df2 = DataFrame!(CSV.File(\"medio0.txt\", header = false))"
   ]
  },
  {
   "cell_type": "code",
   "execution_count": null,
   "metadata": {},
   "outputs": [],
   "source": [
    "for r in 1:repetitions\n",
    "    endereco = \"data/\" * \"$escalonador\" * \"_\" * \"$medio\" * \"_saida_$r.txt\"\n",
    "    df1 = DataFrame!(CSV.File(endereco, header = false))\n",
    "    println(endereco)\n",
    "    insertcols!(df1, 4, :dl =>df2.Column4, 0)\n",
    "    \n",
    "    sum = 0\n",
    "    for row in eachrow(df1)\n",
    "        sum += Int(row.Column2 > row.dl)\n",
    "    end\n",
    "    append!(results, DataFrame(deadline = sum, run = r, contextos = 0, entrada = medio));\n",
    "end"
   ]
  },
  {
   "cell_type": "code",
   "execution_count": null,
   "metadata": {},
   "outputs": [],
   "source": [
    "for r in 1:repetitions\n",
    "    endereco = \"data/\" * \"$escalonador\" * \"_\" * \"$grande\" * \"_saida_$r.txt\"\n",
    "    df1 = DataFrame!(CSV.File(endereco, header = false))\n",
    "    println(endereco)\n",
    "    insertcols!(df1, 4, :dl =>df2.Column4, 0)\n",
    "    \n",
    "    sum = 0\n",
    "    for row in eachrow(df1)\n",
    "        sum += Int(row.Column2 > row.dl)\n",
    "    end\n",
    "    append!(results, DataFrame(deadline = sum, run = r, contextos = 0, entrada = grande));\n",
    "end"
   ]
  },
  {
   "cell_type": "markdown",
   "metadata": {},
   "source": [
    "### Calculando intervalos de confiança"
   ]
  },
  {
   "cell_type": "code",
   "execution_count": null,
   "metadata": {},
   "outputs": [],
   "source": [
    "function parse_results(results)\n",
    "    parsed_results = results |>\n",
    "                    @groupby({_.entrada, _.deadline}) |>\n",
    "                    @map({entrada = key(_).entrada,\n",
    "                          deadline = key(_).deadline,\n",
    "                          mean_deadline = mean(_.deadline),\n",
    "                          ci_deadline = 1.96 * std(_.deadline)}) |>\n",
    "                    DataFrame\n",
    "    \n",
    "    return parsed_results\n",
    "end"
   ]
  },
  {
   "cell_type": "code",
   "execution_count": null,
   "metadata": {},
   "outputs": [],
   "source": [
    "parse_results(results)"
   ]
  },
  {
   "cell_type": "markdown",
   "metadata": {},
   "source": [
    "## Segundo escalonador - SRTN"
   ]
  },
  {
   "cell_type": "code",
   "execution_count": null,
   "metadata": {},
   "outputs": [],
   "source": [
    "results = DataFrame(\n",
    "        deadline = Int[],\n",
    "        contextos = Int[],\n",
    "        run = Int[],\n",
    "        entrada = String[]) "
   ]
  },
  {
   "cell_type": "code",
   "execution_count": null,
   "metadata": {},
   "outputs": [],
   "source": [
    "escalonador = 2"
   ]
  },
  {
   "cell_type": "code",
   "execution_count": null,
   "metadata": {},
   "outputs": [],
   "source": [
    "df2 = DataFrame!(CSV.File(\"trace1.txt\", header = false))[1:10,:]"
   ]
  },
  {
   "cell_type": "code",
   "execution_count": null,
   "metadata": {},
   "outputs": [],
   "source": [
    "for r in 1:repetitions\n",
    "    endereco = \"data/\" * \"$escalonador\" * \"_\" * \"$pequeno\" * \"_saida_$r.txt\"\n",
    "    df1 = DataFrame!(CSV.File(endereco, header = false))[1:10,:]\n",
    "    println(endereco)\n",
    "    insertcols!(df1, 4, :dl =>df2.Column4, 0)\n",
    "    \n",
    "    sum = 0\n",
    "    for row in eachrow(df1)\n",
    "        sum += Int(row.Column2 > row.dl)\n",
    "    end\n",
    "    append!(results, DataFrame(deadline = sum, run = r, contextos = 0, entrada = pequeno));\n",
    "end"
   ]
  },
  {
   "cell_type": "code",
   "execution_count": null,
   "metadata": {},
   "outputs": [],
   "source": [
    "df2 = DataFrame!(CSV.File(\"medio0.txt\", header = false))[1:20,:]"
   ]
  },
  {
   "cell_type": "code",
   "execution_count": null,
   "metadata": {},
   "outputs": [],
   "source": [
    "for r in 1:repetitions\n",
    "    endereco = \"data/\" * \"$escalonador\" * \"_\" * \"$medio\" * \"_saida_$r.txt\"\n",
    "    df1 = DataFrame!(CSV.File(endereco, header = false))[1:20,:]\n",
    "    println(endereco)\n",
    "    insertcols!(df1, 4, :dl =>df2.Column4, 0)\n",
    "    \n",
    "    sum = 0\n",
    "    for row in eachrow(df1)\n",
    "        sum += Int(row.Column2 > row.dl)\n",
    "    end\n",
    "    append!(results, DataFrame(deadline = sum, run = r, contextos = 0, entrada = medio));\n",
    "end"
   ]
  },
  {
   "cell_type": "code",
   "execution_count": null,
   "metadata": {},
   "outputs": [],
   "source": [
    "df2 = DataFrame!(CSV.File(\"medio0.txt\", header = false))[1:30,:]"
   ]
  },
  {
   "cell_type": "code",
   "execution_count": null,
   "metadata": {},
   "outputs": [],
   "source": [
    "for r in 1:repetitions\n",
    "    endereco = \"data/\" * \"$escalonador\" * \"_\" * \"$grande\" * \"_saida_$r.txt\"\n",
    "    df1 = DataFrame!(CSV.File(endereco, header = false))\n",
    "    println(endereco)\n",
    "    insertcols!(df1, 4, :dl =>df2.Column4, 0)\n",
    "    \n",
    "    sum = 0\n",
    "    for row in eachrow(df1)\n",
    "        sum += Int(row.Column2 > row.dl)\n",
    "    end\n",
    "    append!(results, DataFrame(deadline = sum, run = r, contextos = 0, entrada = grande));\n",
    "end"
   ]
  },
  {
   "cell_type": "markdown",
   "metadata": {},
   "source": [
    "### Calculando intervalos de confiança"
   ]
  },
  {
   "cell_type": "code",
   "execution_count": null,
   "metadata": {},
   "outputs": [],
   "source": [
    "function parse_results(results)\n",
    "    parsed_results = results |>\n",
    "                    @groupby({_.entrada, _.deadline}) |>\n",
    "                    @map({entrada = key(_).entrada,\n",
    "                          deadline = key(_).deadline,\n",
    "                          mean_deadline = mean(_.deadline),\n",
    "                          ci_deadline = 1.96 * std(_.deadline)}) |>\n",
    "                    DataFrame\n",
    "    \n",
    "    return parsed_results\n",
    "end"
   ]
  },
  {
   "cell_type": "code",
   "execution_count": null,
   "metadata": {},
   "outputs": [],
   "source": [
    "parse_results(results)"
   ]
  }
 ],
 "metadata": {
  "hide_input": false,
  "kernelspec": {
   "display_name": "Julia 1.3.1",
   "language": "julia",
   "name": "julia-1.3"
  },
  "language_info": {
   "file_extension": ".jl",
   "mimetype": "application/julia",
   "name": "julia",
   "version": "1.3.1"
  },
  "toc": {
   "base_numbering": 1,
   "nav_menu": {},
   "number_sections": true,
   "sideBar": true,
   "skip_h1_title": false,
   "title_cell": "Table of Contents",
   "title_sidebar": "Contents",
   "toc_cell": false,
   "toc_position": {},
   "toc_section_display": true,
   "toc_window_display": false
  }
 },
 "nbformat": 4,
 "nbformat_minor": 4
}
